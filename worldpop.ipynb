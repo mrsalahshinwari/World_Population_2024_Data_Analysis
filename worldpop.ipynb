{
 "cells": [
  {
   "cell_type": "code",
   "execution_count": 130,
   "id": "9cc1aa4b",
   "metadata": {},
   "outputs": [],
   "source": [
    "# load all librires pandas, seaborn, matplotlib, numpy\n",
    "import pandas as pd\n",
    "import numpy as np\n",
    "import matplotlib.pyplot as plt\n",
    "import seaborn as sns"
   ]
  },
  {
   "cell_type": "code",
   "execution_count": 131,
   "id": "e123fcba",
   "metadata": {},
   "outputs": [],
   "source": [
    "# load data set worldpop\n",
    "df = pd.read_csv('worldpop.csv')"
   ]
  },
  {
   "cell_type": "code",
   "execution_count": 132,
   "id": "6a122965",
   "metadata": {},
   "outputs": [
    {
     "data": {
      "text/html": [
       "<div>\n",
       "<style scoped>\n",
       "    .dataframe tbody tr th:only-of-type {\n",
       "        vertical-align: middle;\n",
       "    }\n",
       "\n",
       "    .dataframe tbody tr th {\n",
       "        vertical-align: top;\n",
       "    }\n",
       "\n",
       "    .dataframe thead th {\n",
       "        text-align: right;\n",
       "    }\n",
       "</style>\n",
       "<table border=\"1\" class=\"dataframe\">\n",
       "  <thead>\n",
       "    <tr style=\"text-align: right;\">\n",
       "      <th></th>\n",
       "      <th>Rank</th>\n",
       "      <th>Country</th>\n",
       "      <th>Population (2024)</th>\n",
       "      <th>Yearly Change</th>\n",
       "      <th>Net Change</th>\n",
       "      <th>Density (P/Km²)</th>\n",
       "      <th>Land Area (Km²)</th>\n",
       "      <th>Migrants (net)</th>\n",
       "      <th>Fert. Rate</th>\n",
       "      <th>Med. Age</th>\n",
       "      <th>Urban Pop %</th>\n",
       "    </tr>\n",
       "  </thead>\n",
       "  <tbody>\n",
       "    <tr>\n",
       "      <th>0</th>\n",
       "      <td>1</td>\n",
       "      <td>India</td>\n",
       "      <td>1,450,935,791</td>\n",
       "      <td>0.0089</td>\n",
       "      <td>12,866,195</td>\n",
       "      <td>488</td>\n",
       "      <td>2,973,190</td>\n",
       "      <td>-630,830</td>\n",
       "      <td>2.0</td>\n",
       "      <td>28</td>\n",
       "      <td>37%</td>\n",
       "    </tr>\n",
       "    <tr>\n",
       "      <th>1</th>\n",
       "      <td>2</td>\n",
       "      <td>China</td>\n",
       "      <td>1,419,321,278</td>\n",
       "      <td>-0.0023</td>\n",
       "      <td>-3,263,655</td>\n",
       "      <td>151</td>\n",
       "      <td>9,388,211</td>\n",
       "      <td>-318,992</td>\n",
       "      <td>1.0</td>\n",
       "      <td>40</td>\n",
       "      <td>66%</td>\n",
       "    </tr>\n",
       "    <tr>\n",
       "      <th>2</th>\n",
       "      <td>3</td>\n",
       "      <td>United States</td>\n",
       "      <td>345,426,571</td>\n",
       "      <td>0.0057</td>\n",
       "      <td>1,949,236</td>\n",
       "      <td>38</td>\n",
       "      <td>9,147,420</td>\n",
       "      <td>1,286,132</td>\n",
       "      <td>1.6</td>\n",
       "      <td>38</td>\n",
       "      <td>82%</td>\n",
       "    </tr>\n",
       "    <tr>\n",
       "      <th>3</th>\n",
       "      <td>4</td>\n",
       "      <td>Indonesia</td>\n",
       "      <td>283,487,931</td>\n",
       "      <td>0.0082</td>\n",
       "      <td>2,297,864</td>\n",
       "      <td>156</td>\n",
       "      <td>1,811,570</td>\n",
       "      <td>-38,469</td>\n",
       "      <td>2.1</td>\n",
       "      <td>30</td>\n",
       "      <td>59%</td>\n",
       "    </tr>\n",
       "    <tr>\n",
       "      <th>4</th>\n",
       "      <td>5</td>\n",
       "      <td>Pakistan</td>\n",
       "      <td>251,269,164</td>\n",
       "      <td>0.0152</td>\n",
       "      <td>3,764,669</td>\n",
       "      <td>326</td>\n",
       "      <td>770,880</td>\n",
       "      <td>-1,401,173</td>\n",
       "      <td>3.5</td>\n",
       "      <td>20</td>\n",
       "      <td>34%</td>\n",
       "    </tr>\n",
       "  </tbody>\n",
       "</table>\n",
       "</div>"
      ],
      "text/plain": [
       "   Rank        Country Population (2024)  Yearly Change  Net Change  \\\n",
       "0     1          India     1,450,935,791         0.0089  12,866,195   \n",
       "1     2          China     1,419,321,278        -0.0023  -3,263,655   \n",
       "2     3  United States       345,426,571         0.0057   1,949,236   \n",
       "3     4      Indonesia       283,487,931         0.0082   2,297,864   \n",
       "4     5       Pakistan       251,269,164         0.0152   3,764,669   \n",
       "\n",
       "  Density (P/Km²) Land Area (Km²) Migrants (net)  Fert. Rate  Med. Age  \\\n",
       "0             488       2,973,190       -630,830         2.0        28   \n",
       "1             151       9,388,211       -318,992         1.0        40   \n",
       "2              38       9,147,420      1,286,132         1.6        38   \n",
       "3             156       1,811,570        -38,469         2.1        30   \n",
       "4             326         770,880     -1,401,173         3.5        20   \n",
       "\n",
       "  Urban Pop %  \n",
       "0         37%  \n",
       "1         66%  \n",
       "2         82%  \n",
       "3         59%  \n",
       "4         34%  "
      ]
     },
     "execution_count": 132,
     "metadata": {},
     "output_type": "execute_result"
    }
   ],
   "source": [
    "# quick look into data\n",
    "df.head()"
   ]
  },
  {
   "cell_type": "code",
   "execution_count": 133,
   "id": "a0d4dac3",
   "metadata": {},
   "outputs": [
    {
     "data": {
      "text/html": [
       "<div>\n",
       "<style scoped>\n",
       "    .dataframe tbody tr th:only-of-type {\n",
       "        vertical-align: middle;\n",
       "    }\n",
       "\n",
       "    .dataframe tbody tr th {\n",
       "        vertical-align: top;\n",
       "    }\n",
       "\n",
       "    .dataframe thead th {\n",
       "        text-align: right;\n",
       "    }\n",
       "</style>\n",
       "<table border=\"1\" class=\"dataframe\">\n",
       "  <thead>\n",
       "    <tr style=\"text-align: right;\">\n",
       "      <th></th>\n",
       "      <th>Rank</th>\n",
       "      <th>Yearly Change</th>\n",
       "      <th>Fert. Rate</th>\n",
       "      <th>Med. Age</th>\n",
       "    </tr>\n",
       "  </thead>\n",
       "  <tbody>\n",
       "    <tr>\n",
       "      <th>count</th>\n",
       "      <td>234.000000</td>\n",
       "      <td>234.000000</td>\n",
       "      <td>234.000000</td>\n",
       "      <td>234.000000</td>\n",
       "    </tr>\n",
       "    <tr>\n",
       "      <th>mean</th>\n",
       "      <td>117.500000</td>\n",
       "      <td>0.009424</td>\n",
       "      <td>2.332051</td>\n",
       "      <td>31.679487</td>\n",
       "    </tr>\n",
       "    <tr>\n",
       "      <th>std</th>\n",
       "      <td>67.694165</td>\n",
       "      <td>0.013671</td>\n",
       "      <td>1.163002</td>\n",
       "      <td>9.810427</td>\n",
       "    </tr>\n",
       "    <tr>\n",
       "      <th>min</th>\n",
       "      <td>1.000000</td>\n",
       "      <td>-0.050400</td>\n",
       "      <td>0.700000</td>\n",
       "      <td>14.000000</td>\n",
       "    </tr>\n",
       "    <tr>\n",
       "      <th>25%</th>\n",
       "      <td>59.250000</td>\n",
       "      <td>0.000100</td>\n",
       "      <td>1.500000</td>\n",
       "      <td>23.000000</td>\n",
       "    </tr>\n",
       "    <tr>\n",
       "      <th>50%</th>\n",
       "      <td>117.500000</td>\n",
       "      <td>0.008600</td>\n",
       "      <td>2.000000</td>\n",
       "      <td>32.500000</td>\n",
       "    </tr>\n",
       "    <tr>\n",
       "      <th>75%</th>\n",
       "      <td>175.750000</td>\n",
       "      <td>0.018750</td>\n",
       "      <td>2.975000</td>\n",
       "      <td>40.000000</td>\n",
       "    </tr>\n",
       "    <tr>\n",
       "      <th>max</th>\n",
       "      <td>234.000000</td>\n",
       "      <td>0.050700</td>\n",
       "      <td>6.000000</td>\n",
       "      <td>59.000000</td>\n",
       "    </tr>\n",
       "  </tbody>\n",
       "</table>\n",
       "</div>"
      ],
      "text/plain": [
       "             Rank  Yearly Change  Fert. Rate    Med. Age\n",
       "count  234.000000     234.000000  234.000000  234.000000\n",
       "mean   117.500000       0.009424    2.332051   31.679487\n",
       "std     67.694165       0.013671    1.163002    9.810427\n",
       "min      1.000000      -0.050400    0.700000   14.000000\n",
       "25%     59.250000       0.000100    1.500000   23.000000\n",
       "50%    117.500000       0.008600    2.000000   32.500000\n",
       "75%    175.750000       0.018750    2.975000   40.000000\n",
       "max    234.000000       0.050700    6.000000   59.000000"
      ]
     },
     "execution_count": 133,
     "metadata": {},
     "output_type": "execute_result"
    }
   ],
   "source": [
    "# quick analysis\n",
    "df.describe()"
   ]
  },
  {
   "cell_type": "markdown",
   "id": "353ce398",
   "metadata": {},
   "source": [
    "## Basic Population Insights\n",
    "\n",
    "1. Find the country with the largest population in 2024.\n",
    "2. Find the country with the smallest population in 2024.\n",
    "3. Rank the top 10 most populated countries.\n",
    "4. Rank the bottom 10 least populated countries.\n",
    "5. Calculate the average population across all countries.\n",
    "6. Check the total world population (sum of all countries).\n",
    "7. Identify the median population (middle country when sorted)."
   ]
  },
  {
   "cell_type": "code",
   "execution_count": 134,
   "id": "5a6b1cc5",
   "metadata": {},
   "outputs": [
    {
     "name": "stdout",
     "output_type": "stream",
     "text": [
      "<class 'pandas.core.frame.DataFrame'>\n",
      "RangeIndex: 234 entries, 0 to 233\n",
      "Data columns (total 11 columns):\n",
      " #   Column             Non-Null Count  Dtype  \n",
      "---  ------             --------------  -----  \n",
      " 0   Rank               234 non-null    int64  \n",
      " 1   Country            234 non-null    object \n",
      " 2   Population (2024)  234 non-null    object \n",
      " 3   Yearly Change      234 non-null    float64\n",
      " 4   Net Change         234 non-null    object \n",
      " 5   Density (P/Km²)    234 non-null    object \n",
      " 6   Land Area (Km²)    234 non-null    object \n",
      " 7   Migrants (net)     234 non-null    object \n",
      " 8   Fert. Rate         234 non-null    float64\n",
      " 9   Med. Age           234 non-null    int64  \n",
      " 10  Urban Pop %        234 non-null    object \n",
      "dtypes: float64(2), int64(2), object(7)\n",
      "memory usage: 20.2+ KB\n"
     ]
    }
   ],
   "source": [
    "# quick look into data\n",
    "df.info()"
   ]
  },
  {
   "cell_type": "code",
   "execution_count": 135,
   "id": "c87d1e12",
   "metadata": {},
   "outputs": [
    {
     "data": {
      "text/plain": [
       "Rank                                 199\n",
       "Country              Antigua and Barbuda\n",
       "Population (2024)                 93,772\n",
       "Yearly Change                     0.0049\n",
       "Net Change                           456\n",
       "Density (P/Km²)                      213\n",
       "Land Area (Km²)                      440\n",
       "Migrants (net)                         9\n",
       "Fert. Rate                           1.6\n",
       "Med. Age                              36\n",
       "Urban Pop %                          28%\n",
       "Name: 198, dtype: object"
      ]
     },
     "execution_count": 135,
     "metadata": {},
     "output_type": "execute_result"
    }
   ],
   "source": [
    "# 1. Find the country with the largest population in 2024.\n",
    "df.loc[df['Population (2024)'].idxmax()]\n"
   ]
  },
  {
   "cell_type": "code",
   "execution_count": 136,
   "id": "88b44b42",
   "metadata": {},
   "outputs": [
    {
     "data": {
      "text/plain": [
       "Rank                       160\n",
       "Country               Djibouti\n",
       "Population (2024)    1,168,722\n",
       "Yearly Change           0.0137\n",
       "Net Change              15,778\n",
       "Density (P/Km²)             50\n",
       "Land Area (Km²)         23,180\n",
       "Migrants (net)             -11\n",
       "Fert. Rate                 2.6\n",
       "Med. Age                    25\n",
       "Urban Pop %                71%\n",
       "Name: 159, dtype: object"
      ]
     },
     "execution_count": 136,
     "metadata": {},
     "output_type": "execute_result"
    }
   ],
   "source": [
    "# 2.Find the country with the smallest population in 2024.\n",
    "df.loc[df['Population (2024)'].idxmin()]"
   ]
  },
  {
   "cell_type": "code",
   "execution_count": 137,
   "id": "323844de",
   "metadata": {},
   "outputs": [
    {
     "ename": "TypeError",
     "evalue": "Column 'Population (2024)' has dtype object, cannot use method 'nlargest' with this dtype",
     "output_type": "error",
     "traceback": [
      "\u001b[31m---------------------------------------------------------------------------\u001b[39m",
      "\u001b[31mTypeError\u001b[39m                                 Traceback (most recent call last)",
      "\u001b[36mCell\u001b[39m\u001b[36m \u001b[39m\u001b[32mIn[137]\u001b[39m\u001b[32m, line 2\u001b[39m\n\u001b[32m      1\u001b[39m \u001b[38;5;66;03m# 3. Rank the top 10 most populated countries\u001b[39;00m\n\u001b[32m----> \u001b[39m\u001b[32m2\u001b[39m df.nlargest(\u001b[32m10\u001b[39m,\u001b[33m'\u001b[39m\u001b[33mPopulation (2024)\u001b[39m\u001b[33m'\u001b[39m)[[\u001b[33m'\u001b[39m\u001b[33mCountry\u001b[39m\u001b[33m'\u001b[39m,\u001b[33m'\u001b[39m\u001b[33mPopulation (2024)\u001b[39m\u001b[33m'\u001b[39m]]\n",
      "\u001b[36mFile \u001b[39m\u001b[32mc:\\Users\\mr.salah\\.conda\\envs\\Python_EDA_FullCourse\\Lib\\site-packages\\pandas\\core\\frame.py:7651\u001b[39m, in \u001b[36mDataFrame.nlargest\u001b[39m\u001b[34m(self, n, columns, keep)\u001b[39m\n\u001b[32m   7532\u001b[39m \u001b[38;5;28;01mdef\u001b[39;00m\u001b[38;5;250m \u001b[39m\u001b[34mnlargest\u001b[39m(\n\u001b[32m   7533\u001b[39m     \u001b[38;5;28mself\u001b[39m, n: \u001b[38;5;28mint\u001b[39m, columns: IndexLabel, keep: NsmallestNlargestKeep = \u001b[33m\"\u001b[39m\u001b[33mfirst\u001b[39m\u001b[33m\"\u001b[39m\n\u001b[32m   7534\u001b[39m ) -> DataFrame:\n\u001b[32m   7535\u001b[39m \u001b[38;5;250m    \u001b[39m\u001b[33;03m\"\"\"\u001b[39;00m\n\u001b[32m   7536\u001b[39m \u001b[33;03m    Return the first `n` rows ordered by `columns` in descending order.\u001b[39;00m\n\u001b[32m   7537\u001b[39m \n\u001b[32m   (...)\u001b[39m\u001b[32m   7649\u001b[39m \u001b[33;03m    Brunei      434000    12128      BN\u001b[39;00m\n\u001b[32m   7650\u001b[39m \u001b[33;03m    \"\"\"\u001b[39;00m\n\u001b[32m-> \u001b[39m\u001b[32m7651\u001b[39m     \u001b[38;5;28;01mreturn\u001b[39;00m selectn.SelectNFrame(\u001b[38;5;28mself\u001b[39m, n=n, keep=keep, columns=columns).nlargest()\n",
      "\u001b[36mFile \u001b[39m\u001b[32mc:\\Users\\mr.salah\\.conda\\envs\\Python_EDA_FullCourse\\Lib\\site-packages\\pandas\\core\\methods\\selectn.py:57\u001b[39m, in \u001b[36mSelectN.nlargest\u001b[39m\u001b[34m(self)\u001b[39m\n\u001b[32m     55\u001b[39m \u001b[38;5;129m@final\u001b[39m\n\u001b[32m     56\u001b[39m \u001b[38;5;28;01mdef\u001b[39;00m\u001b[38;5;250m \u001b[39m\u001b[34mnlargest\u001b[39m(\u001b[38;5;28mself\u001b[39m):\n\u001b[32m---> \u001b[39m\u001b[32m57\u001b[39m     \u001b[38;5;28;01mreturn\u001b[39;00m \u001b[38;5;28mself\u001b[39m.compute(\u001b[33m\"\u001b[39m\u001b[33mnlargest\u001b[39m\u001b[33m\"\u001b[39m)\n",
      "\u001b[36mFile \u001b[39m\u001b[32mc:\\Users\\mr.salah\\.conda\\envs\\Python_EDA_FullCourse\\Lib\\site-packages\\pandas\\core\\methods\\selectn.py:201\u001b[39m, in \u001b[36mSelectNFrame.compute\u001b[39m\u001b[34m(self, method)\u001b[39m\n\u001b[32m    199\u001b[39m     dtype = frame[column].dtype\n\u001b[32m    200\u001b[39m     \u001b[38;5;28;01mif\u001b[39;00m \u001b[38;5;129;01mnot\u001b[39;00m \u001b[38;5;28mself\u001b[39m.is_valid_dtype_n_method(dtype):\n\u001b[32m--> \u001b[39m\u001b[32m201\u001b[39m         \u001b[38;5;28;01mraise\u001b[39;00m \u001b[38;5;167;01mTypeError\u001b[39;00m(\n\u001b[32m    202\u001b[39m             \u001b[33mf\u001b[39m\u001b[33m\"\u001b[39m\u001b[33mColumn \u001b[39m\u001b[38;5;132;01m{\u001b[39;00m\u001b[38;5;28mrepr\u001b[39m(column)\u001b[38;5;132;01m}\u001b[39;00m\u001b[33m has dtype \u001b[39m\u001b[38;5;132;01m{\u001b[39;00mdtype\u001b[38;5;132;01m}\u001b[39;00m\u001b[33m, \u001b[39m\u001b[33m\"\u001b[39m\n\u001b[32m    203\u001b[39m             \u001b[33mf\u001b[39m\u001b[33m\"\u001b[39m\u001b[33mcannot use method \u001b[39m\u001b[38;5;132;01m{\u001b[39;00m\u001b[38;5;28mrepr\u001b[39m(method)\u001b[38;5;132;01m}\u001b[39;00m\u001b[33m with this dtype\u001b[39m\u001b[33m\"\u001b[39m\n\u001b[32m    204\u001b[39m         )\n\u001b[32m    206\u001b[39m \u001b[38;5;28;01mdef\u001b[39;00m\u001b[38;5;250m \u001b[39m\u001b[34mget_indexer\u001b[39m(current_indexer, other_indexer):\n\u001b[32m    207\u001b[39m \u001b[38;5;250m    \u001b[39m\u001b[33;03m\"\"\"\u001b[39;00m\n\u001b[32m    208\u001b[39m \u001b[33;03m    Helper function to concat `current_indexer` and `other_indexer`\u001b[39;00m\n\u001b[32m    209\u001b[39m \u001b[33;03m    depending on `method`\u001b[39;00m\n\u001b[32m    210\u001b[39m \u001b[33;03m    \"\"\"\u001b[39;00m\n",
      "\u001b[31mTypeError\u001b[39m: Column 'Population (2024)' has dtype object, cannot use method 'nlargest' with this dtype"
     ]
    }
   ],
   "source": [
    "# 3. Rank the top 10 most populated countries\n",
    "df.nlargest(10,'Population (2024)')[['Country','Population (2024)']]"
   ]
  },
  {
   "cell_type": "code",
   "execution_count": null,
   "id": "9be3f1a5",
   "metadata": {},
   "outputs": [
    {
     "data": {
      "text/html": [
       "<div>\n",
       "<style scoped>\n",
       "    .dataframe tbody tr th:only-of-type {\n",
       "        vertical-align: middle;\n",
       "    }\n",
       "\n",
       "    .dataframe tbody tr th {\n",
       "        vertical-align: top;\n",
       "    }\n",
       "\n",
       "    .dataframe thead th {\n",
       "        text-align: right;\n",
       "    }\n",
       "</style>\n",
       "<table border=\"1\" class=\"dataframe\">\n",
       "  <thead>\n",
       "    <tr style=\"text-align: right;\">\n",
       "      <th></th>\n",
       "      <th>Country</th>\n",
       "      <th>Population (2024)</th>\n",
       "    </tr>\n",
       "  </thead>\n",
       "  <tbody>\n",
       "    <tr>\n",
       "      <th>233</th>\n",
       "      <td>Holy See</td>\n",
       "      <td>496</td>\n",
       "    </tr>\n",
       "    <tr>\n",
       "      <th>232</th>\n",
       "      <td>Niue</td>\n",
       "      <td>1819</td>\n",
       "    </tr>\n",
       "    <tr>\n",
       "      <th>231</th>\n",
       "      <td>Tokelau</td>\n",
       "      <td>2506</td>\n",
       "    </tr>\n",
       "    <tr>\n",
       "      <th>230</th>\n",
       "      <td>Falkland Islands</td>\n",
       "      <td>3470</td>\n",
       "    </tr>\n",
       "    <tr>\n",
       "      <th>229</th>\n",
       "      <td>Montserrat</td>\n",
       "      <td>4389</td>\n",
       "    </tr>\n",
       "    <tr>\n",
       "      <th>228</th>\n",
       "      <td>Saint Helena</td>\n",
       "      <td>5237</td>\n",
       "    </tr>\n",
       "    <tr>\n",
       "      <th>227</th>\n",
       "      <td>Saint Pierre &amp; Miquelon</td>\n",
       "      <td>5628</td>\n",
       "    </tr>\n",
       "    <tr>\n",
       "      <th>226</th>\n",
       "      <td>Tuvalu</td>\n",
       "      <td>9646</td>\n",
       "    </tr>\n",
       "    <tr>\n",
       "      <th>225</th>\n",
       "      <td>Saint Barthelemy</td>\n",
       "      <td>11258</td>\n",
       "    </tr>\n",
       "    <tr>\n",
       "      <th>224</th>\n",
       "      <td>Wallis &amp; Futuna</td>\n",
       "      <td>11277</td>\n",
       "    </tr>\n",
       "  </tbody>\n",
       "</table>\n",
       "</div>"
      ],
      "text/plain": [
       "                     Country  Population (2024)\n",
       "233                 Holy See                496\n",
       "232                     Niue               1819\n",
       "231                  Tokelau               2506\n",
       "230         Falkland Islands               3470\n",
       "229               Montserrat               4389\n",
       "228             Saint Helena               5237\n",
       "227  Saint Pierre & Miquelon               5628\n",
       "226                   Tuvalu               9646\n",
       "225         Saint Barthelemy              11258\n",
       "224          Wallis & Futuna              11277"
      ]
     },
     "execution_count": 105,
     "metadata": {},
     "output_type": "execute_result"
    }
   ],
   "source": [
    "# 4. Rank the bottom 10 least populated countries.\n",
    "df.nsmallest(10,'Population (2024)')[['Country','Population (2024)']]"
   ]
  },
  {
   "cell_type": "code",
   "execution_count": null,
   "id": "57d3143a",
   "metadata": {},
   "outputs": [
    {
     "name": "stdout",
     "output_type": "stream",
     "text": [
      "The average population across all countries is 34874074.45726496\n"
     ]
    }
   ],
   "source": [
    "# 5. Calculate the average population across all countries.\n",
    "aveg = df['Population (2024)'].mean()\n",
    "print('The average population across all countries is',aveg)    "
   ]
  },
  {
   "cell_type": "code",
   "execution_count": null,
   "id": "7da10400",
   "metadata": {},
   "outputs": [
    {
     "name": "stdout",
     "output_type": "stream",
     "text": [
      "The total world population is 8160533423\n"
     ]
    }
   ],
   "source": [
    "# 6. Check the total world population (sum of all countries)\n",
    "world_pop = df['Population (2024)'].sum()\n",
    "print('The total world population is',world_pop)"
   ]
  },
  {
   "cell_type": "code",
   "execution_count": null,
   "id": "9b7b9183",
   "metadata": {},
   "outputs": [
    {
     "name": "stdout",
     "output_type": "stream",
     "text": [
      "The total world population is 8.160533423 billions\n"
     ]
    }
   ],
   "source": [
    "# convert figure into billions\n",
    "world_pop = world_pop/1000000000\n",
    "print('The total world population is',world_pop,'billions')\n"
   ]
  },
  {
   "cell_type": "code",
   "execution_count": null,
   "id": "2b3cc701",
   "metadata": {},
   "outputs": [
    {
     "name": "stdout",
     "output_type": "stream",
     "text": [
      "The median population is 5.6150635e-23\n"
     ]
    }
   ],
   "source": [
    "# 7.Identify the median population (middle country when sorted).\n",
    "median = df['Population (2024)'].median()\n",
    "print('The median population is',median)"
   ]
  },
  {
   "cell_type": "markdown",
   "id": "7c8150d7",
   "metadata": {},
   "source": [
    "## 2. Yearly Change & Growth\n",
    "8. Find the country with the highest yearly growth (%).\n",
    "9. Find the country with the lowest yearly growth (%) (could even be negative).\n",
    "10. Compare absolute net change in population across countries.\n",
    "11. Identify countries with population decline.\n",
    "12. Check if large populations always have higher net change.\n",
    "13. Calculate the average yearly growth (%) across all countries."
   ]
  },
  {
   "cell_type": "code",
   "execution_count": null,
   "id": "c8631f6b",
   "metadata": {},
   "outputs": [
    {
     "data": {
      "text/plain": [
       "Country                  Chad\n",
       "Population (2024)         0.0\n",
       "Yearly Change           5.07%\n",
       "Net Change           0.980059\n",
       "Density (P/Km²)            16\n",
       "Land Area (Km²)       1259200\n",
       "Migrants (net)         204040\n",
       "Fert. Rate                6.0\n",
       "Med. Age                   16\n",
       "Urban Pop %               22%\n",
       "Name: 64, dtype: object"
      ]
     },
     "execution_count": 117,
     "metadata": {},
     "output_type": "execute_result"
    }
   ],
   "source": [
    "# 8. Find the country with the highest yearly growth (%)\n",
    "df.loc[df['Yearly Change'].idxmax()]"
   ]
  },
  {
   "cell_type": "code",
   "execution_count": null,
   "id": "2ac3a01a",
   "metadata": {},
   "outputs": [
    {
     "data": {
      "text/plain": [
       "Country              Isle of Man\n",
       "Population (2024)            0.0\n",
       "Yearly Change             -0.01%\n",
       "Net Change             -0.000005\n",
       "Density (P/Km²)              148\n",
       "Land Area (Km²)              570\n",
       "Migrants (net)               177\n",
       "Fert. Rate                   1.5\n",
       "Med. Age                      46\n",
       "Urban Pop %                  56%\n",
       "Name: 200, dtype: object"
      ]
     },
     "execution_count": 118,
     "metadata": {},
     "output_type": "execute_result"
    }
   ],
   "source": [
    "# 9. Find the country with the lowest yearly growth (%)\n",
    "df.loc[df['Yearly Change'].idxmin()]"
   ]
  },
  {
   "cell_type": "code",
   "execution_count": null,
   "id": "8468a67c",
   "metadata": {},
   "outputs": [
    {
     "data": {
      "text/plain": [
       "Rank                         32\n",
       "Country                   Spain\n",
       "Population (2024)    47,910,526\n",
       "Yearly Change               0.0\n",
       "Net Change               -1,053\n",
       "Density (P/Km²)              96\n",
       "Land Area (Km²)         498,800\n",
       "Migrants (net)          111,674\n",
       "Fert. Rate                  1.2\n",
       "Med. Age                     45\n",
       "Urban Pop %                 79%\n",
       "Name: 31, dtype: object"
      ]
     },
     "execution_count": 151,
     "metadata": {},
     "output_type": "execute_result"
    }
   ],
   "source": [
    "# 10. Compare absolute net change in population across countries.\n",
    "top1 = df.loc[df['Net Change'].idxmin()]"
   ]
  },
  {
   "cell_type": "code",
   "execution_count": 157,
   "id": "944ca759",
   "metadata": {},
   "outputs": [
    {
     "data": {
      "text/plain": [
       "Rank                         32\n",
       "Country                   Spain\n",
       "Population (2024)    47,910,526\n",
       "Yearly Change               0.0\n",
       "Net Change               -1,053\n",
       "Density (P/Km²)              96\n",
       "Land Area (Km²)         498,800\n",
       "Migrants (net)          111,674\n",
       "Fert. Rate                  1.2\n",
       "Med. Age                     45\n",
       "Urban Pop %                 79%\n",
       "Name: 31, dtype: object"
      ]
     },
     "execution_count": 157,
     "metadata": {},
     "output_type": "execute_result"
    }
   ],
   "source": [
    "# 11. Identify countries with population decline.\n",
    "df.loc[df['Net Change'].idxmin()]"
   ]
  },
  {
   "cell_type": "code",
   "execution_count": null,
   "id": "249df223",
   "metadata": {},
   "outputs": [
    {
     "name": "stdout",
     "output_type": "stream",
     "text": [
      "The average yearly growth (%) across all countries is 0.009423931623931623\n"
     ]
    }
   ],
   "source": [
    "# 12. Calculate the average yearly growth (%) across all countries.\n",
    "aveg = df['Yearly Change'].mean()\n",
    "print('The average yearly growth (%) across all countries is',aveg)"
   ]
  }
 ],
 "metadata": {
  "kernelspec": {
   "display_name": "Python_EDA_FullCourse",
   "language": "python",
   "name": "python3"
  },
  "language_info": {
   "codemirror_mode": {
    "name": "ipython",
    "version": 3
   },
   "file_extension": ".py",
   "mimetype": "text/x-python",
   "name": "python",
   "nbconvert_exporter": "python",
   "pygments_lexer": "ipython3",
   "version": "3.13.5"
  }
 },
 "nbformat": 4,
 "nbformat_minor": 5
}
