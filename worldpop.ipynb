{
 "cells": [
  {
   "cell_type": "code",
   "execution_count": 1,
   "id": "9cc1aa4b",
   "metadata": {},
   "outputs": [],
   "source": [
    "# load all librires pandas, seaborn, matplotlib, numpy\n",
    "import pandas as pd\n",
    "import numpy as np\n",
    "import matplotlib.pyplot as plt\n",
    "import seaborn as sns"
   ]
  },
  {
   "cell_type": "code",
   "execution_count": 2,
   "id": "e123fcba",
   "metadata": {},
   "outputs": [],
   "source": [
    "# load data set worldpop\n",
    "df = pd.read_csv('worldpop.csv')"
   ]
  },
  {
   "cell_type": "code",
   "execution_count": 3,
   "id": "6a122965",
   "metadata": {},
   "outputs": [
    {
     "data": {
      "text/html": [
       "<div>\n",
       "<style scoped>\n",
       "    .dataframe tbody tr th:only-of-type {\n",
       "        vertical-align: middle;\n",
       "    }\n",
       "\n",
       "    .dataframe tbody tr th {\n",
       "        vertical-align: top;\n",
       "    }\n",
       "\n",
       "    .dataframe thead th {\n",
       "        text-align: right;\n",
       "    }\n",
       "</style>\n",
       "<table border=\"1\" class=\"dataframe\">\n",
       "  <thead>\n",
       "    <tr style=\"text-align: right;\">\n",
       "      <th></th>\n",
       "      <th>Rank</th>\n",
       "      <th>Country</th>\n",
       "      <th>Population (2024)</th>\n",
       "      <th>Yearly Change</th>\n",
       "      <th>Net Change</th>\n",
       "      <th>Density (P/Km²)</th>\n",
       "      <th>Land Area (Km²)</th>\n",
       "      <th>Migrants (net)</th>\n",
       "      <th>Fert. Rate</th>\n",
       "      <th>Med. Age</th>\n",
       "      <th>Urban Pop %</th>\n",
       "    </tr>\n",
       "  </thead>\n",
       "  <tbody>\n",
       "    <tr>\n",
       "      <th>0</th>\n",
       "      <td>1</td>\n",
       "      <td>India</td>\n",
       "      <td>1450935791</td>\n",
       "      <td>0.0089</td>\n",
       "      <td>12866195</td>\n",
       "      <td>488</td>\n",
       "      <td>2,973,190</td>\n",
       "      <td>-630,830</td>\n",
       "      <td>2.0</td>\n",
       "      <td>28</td>\n",
       "      <td>0.37</td>\n",
       "    </tr>\n",
       "    <tr>\n",
       "      <th>1</th>\n",
       "      <td>2</td>\n",
       "      <td>China</td>\n",
       "      <td>1419321278</td>\n",
       "      <td>-0.0023</td>\n",
       "      <td>-3263655</td>\n",
       "      <td>151</td>\n",
       "      <td>9,388,211</td>\n",
       "      <td>-318,992</td>\n",
       "      <td>1.0</td>\n",
       "      <td>40</td>\n",
       "      <td>0.66</td>\n",
       "    </tr>\n",
       "    <tr>\n",
       "      <th>2</th>\n",
       "      <td>3</td>\n",
       "      <td>United States</td>\n",
       "      <td>345426571</td>\n",
       "      <td>0.0057</td>\n",
       "      <td>1949236</td>\n",
       "      <td>38</td>\n",
       "      <td>9,147,420</td>\n",
       "      <td>1,286,132</td>\n",
       "      <td>1.6</td>\n",
       "      <td>38</td>\n",
       "      <td>0.82</td>\n",
       "    </tr>\n",
       "    <tr>\n",
       "      <th>3</th>\n",
       "      <td>4</td>\n",
       "      <td>Indonesia</td>\n",
       "      <td>283487931</td>\n",
       "      <td>0.0082</td>\n",
       "      <td>2297864</td>\n",
       "      <td>156</td>\n",
       "      <td>1,811,570</td>\n",
       "      <td>-38,469</td>\n",
       "      <td>2.1</td>\n",
       "      <td>30</td>\n",
       "      <td>0.59</td>\n",
       "    </tr>\n",
       "    <tr>\n",
       "      <th>4</th>\n",
       "      <td>5</td>\n",
       "      <td>Pakistan</td>\n",
       "      <td>251269164</td>\n",
       "      <td>0.0152</td>\n",
       "      <td>3764669</td>\n",
       "      <td>326</td>\n",
       "      <td>770,880</td>\n",
       "      <td>-1,401,173</td>\n",
       "      <td>3.5</td>\n",
       "      <td>20</td>\n",
       "      <td>0.34</td>\n",
       "    </tr>\n",
       "  </tbody>\n",
       "</table>\n",
       "</div>"
      ],
      "text/plain": [
       "   Rank        Country  Population (2024)  Yearly Change  Net Change  \\\n",
       "0     1          India         1450935791         0.0089    12866195   \n",
       "1     2          China         1419321278        -0.0023    -3263655   \n",
       "2     3  United States          345426571         0.0057     1949236   \n",
       "3     4      Indonesia          283487931         0.0082     2297864   \n",
       "4     5       Pakistan          251269164         0.0152     3764669   \n",
       "\n",
       "  Density (P/Km²) Land Area (Km²) Migrants (net)  Fert. Rate  Med. Age  \\\n",
       "0             488       2,973,190       -630,830         2.0        28   \n",
       "1             151       9,388,211       -318,992         1.0        40   \n",
       "2              38       9,147,420      1,286,132         1.6        38   \n",
       "3             156       1,811,570        -38,469         2.1        30   \n",
       "4             326         770,880     -1,401,173         3.5        20   \n",
       "\n",
       "  Urban Pop %  \n",
       "0        0.37  \n",
       "1        0.66  \n",
       "2        0.82  \n",
       "3        0.59  \n",
       "4        0.34  "
      ]
     },
     "execution_count": 3,
     "metadata": {},
     "output_type": "execute_result"
    }
   ],
   "source": [
    "# quick look into data\n",
    "df.head()"
   ]
  },
  {
   "cell_type": "code",
   "execution_count": 4,
   "id": "a0d4dac3",
   "metadata": {},
   "outputs": [
    {
     "data": {
      "text/html": [
       "<div>\n",
       "<style scoped>\n",
       "    .dataframe tbody tr th:only-of-type {\n",
       "        vertical-align: middle;\n",
       "    }\n",
       "\n",
       "    .dataframe tbody tr th {\n",
       "        vertical-align: top;\n",
       "    }\n",
       "\n",
       "    .dataframe thead th {\n",
       "        text-align: right;\n",
       "    }\n",
       "</style>\n",
       "<table border=\"1\" class=\"dataframe\">\n",
       "  <thead>\n",
       "    <tr style=\"text-align: right;\">\n",
       "      <th></th>\n",
       "      <th>Rank</th>\n",
       "      <th>Population (2024)</th>\n",
       "      <th>Yearly Change</th>\n",
       "      <th>Net Change</th>\n",
       "      <th>Fert. Rate</th>\n",
       "      <th>Med. Age</th>\n",
       "    </tr>\n",
       "  </thead>\n",
       "  <tbody>\n",
       "    <tr>\n",
       "      <th>count</th>\n",
       "      <td>234.000000</td>\n",
       "      <td>2.340000e+02</td>\n",
       "      <td>234.000000</td>\n",
       "      <td>2.340000e+02</td>\n",
       "      <td>234.000000</td>\n",
       "      <td>234.000000</td>\n",
       "    </tr>\n",
       "    <tr>\n",
       "      <th>mean</th>\n",
       "      <td>117.500000</td>\n",
       "      <td>3.487407e+07</td>\n",
       "      <td>0.009424</td>\n",
       "      <td>3.002291e+05</td>\n",
       "      <td>2.332051</td>\n",
       "      <td>31.679487</td>\n",
       "    </tr>\n",
       "    <tr>\n",
       "      <th>std</th>\n",
       "      <td>67.694165</td>\n",
       "      <td>1.383471e+08</td>\n",
       "      <td>0.013671</td>\n",
       "      <td>1.064043e+06</td>\n",
       "      <td>1.163002</td>\n",
       "      <td>9.810427</td>\n",
       "    </tr>\n",
       "    <tr>\n",
       "      <th>min</th>\n",
       "      <td>1.000000</td>\n",
       "      <td>4.960000e+02</td>\n",
       "      <td>-0.050400</td>\n",
       "      <td>-3.263655e+06</td>\n",
       "      <td>0.700000</td>\n",
       "      <td>14.000000</td>\n",
       "    </tr>\n",
       "    <tr>\n",
       "      <th>25%</th>\n",
       "      <td>59.250000</td>\n",
       "      <td>4.782600e+05</td>\n",
       "      <td>0.000100</td>\n",
       "      <td>7.525000e+01</td>\n",
       "      <td>1.500000</td>\n",
       "      <td>23.000000</td>\n",
       "    </tr>\n",
       "    <tr>\n",
       "      <th>50%</th>\n",
       "      <td>117.500000</td>\n",
       "      <td>5.615064e+06</td>\n",
       "      <td>0.008600</td>\n",
       "      <td>1.878150e+04</td>\n",
       "      <td>2.000000</td>\n",
       "      <td>32.500000</td>\n",
       "    </tr>\n",
       "    <tr>\n",
       "      <th>75%</th>\n",
       "      <td>175.750000</td>\n",
       "      <td>2.346508e+07</td>\n",
       "      <td>0.018750</td>\n",
       "      <td>2.139155e+05</td>\n",
       "      <td>2.975000</td>\n",
       "      <td>40.000000</td>\n",
       "    </tr>\n",
       "    <tr>\n",
       "      <th>max</th>\n",
       "      <td>234.000000</td>\n",
       "      <td>1.450936e+09</td>\n",
       "      <td>0.050700</td>\n",
       "      <td>1.286620e+07</td>\n",
       "      <td>6.000000</td>\n",
       "      <td>59.000000</td>\n",
       "    </tr>\n",
       "  </tbody>\n",
       "</table>\n",
       "</div>"
      ],
      "text/plain": [
       "             Rank  Population (2024)  Yearly Change    Net Change  Fert. Rate  \\\n",
       "count  234.000000       2.340000e+02     234.000000  2.340000e+02  234.000000   \n",
       "mean   117.500000       3.487407e+07       0.009424  3.002291e+05    2.332051   \n",
       "std     67.694165       1.383471e+08       0.013671  1.064043e+06    1.163002   \n",
       "min      1.000000       4.960000e+02      -0.050400 -3.263655e+06    0.700000   \n",
       "25%     59.250000       4.782600e+05       0.000100  7.525000e+01    1.500000   \n",
       "50%    117.500000       5.615064e+06       0.008600  1.878150e+04    2.000000   \n",
       "75%    175.750000       2.346508e+07       0.018750  2.139155e+05    2.975000   \n",
       "max    234.000000       1.450936e+09       0.050700  1.286620e+07    6.000000   \n",
       "\n",
       "         Med. Age  \n",
       "count  234.000000  \n",
       "mean    31.679487  \n",
       "std      9.810427  \n",
       "min     14.000000  \n",
       "25%     23.000000  \n",
       "50%     32.500000  \n",
       "75%     40.000000  \n",
       "max     59.000000  "
      ]
     },
     "execution_count": 4,
     "metadata": {},
     "output_type": "execute_result"
    }
   ],
   "source": [
    "# quick analysis\n",
    "df.describe()"
   ]
  },
  {
   "cell_type": "markdown",
   "id": "353ce398",
   "metadata": {},
   "source": [
    "## Basic Population Insights\n",
    "\n",
    "1. Find the country with the largest population in 2024.\n",
    "2. Find the country with the smallest population in 2024.\n",
    "3. Rank the top 10 most populated countries.\n",
    "4. Rank the bottom 10 least populated countries.\n",
    "5. Calculate the average population across all countries.\n",
    "6. Check the total world population (sum of all countries).\n",
    "7. Identify the median population (middle country when sorted)."
   ]
  },
  {
   "cell_type": "code",
   "execution_count": 5,
   "id": "5a6b1cc5",
   "metadata": {},
   "outputs": [
    {
     "name": "stdout",
     "output_type": "stream",
     "text": [
      "<class 'pandas.core.frame.DataFrame'>\n",
      "RangeIndex: 234 entries, 0 to 233\n",
      "Data columns (total 11 columns):\n",
      " #   Column             Non-Null Count  Dtype  \n",
      "---  ------             --------------  -----  \n",
      " 0   Rank               234 non-null    int64  \n",
      " 1   Country            234 non-null    object \n",
      " 2   Population (2024)  234 non-null    int64  \n",
      " 3   Yearly Change      234 non-null    float64\n",
      " 4   Net Change         234 non-null    int64  \n",
      " 5   Density (P/Km²)    234 non-null    object \n",
      " 6   Land Area (Km²)    234 non-null    object \n",
      " 7   Migrants (net)     234 non-null    object \n",
      " 8   Fert. Rate         234 non-null    float64\n",
      " 9   Med. Age           234 non-null    int64  \n",
      " 10  Urban Pop %        234 non-null    object \n",
      "dtypes: float64(2), int64(4), object(5)\n",
      "memory usage: 20.2+ KB\n"
     ]
    }
   ],
   "source": [
    "# quick look into data\n",
    "df.info()"
   ]
  },
  {
   "cell_type": "code",
   "execution_count": 6,
   "id": "c87d1e12",
   "metadata": {},
   "outputs": [
    {
     "data": {
      "text/plain": [
       "Rank                          1\n",
       "Country                   India\n",
       "Population (2024)    1450935791\n",
       "Yearly Change            0.0089\n",
       "Net Change             12866195\n",
       "Density (P/Km²)             488\n",
       "Land Area (Km²)       2,973,190\n",
       "Migrants (net)         -630,830\n",
       "Fert. Rate                  2.0\n",
       "Med. Age                     28\n",
       "Urban Pop %                0.37\n",
       "Name: 0, dtype: object"
      ]
     },
     "execution_count": 6,
     "metadata": {},
     "output_type": "execute_result"
    }
   ],
   "source": [
    "# 1. Find the country with the largest population in 2024.\n",
    "df.loc[df['Population (2024)'].idxmax()]\n"
   ]
  },
  {
   "cell_type": "code",
   "execution_count": 7,
   "id": "88b44b42",
   "metadata": {},
   "outputs": [
    {
     "data": {
      "text/plain": [
       "Rank                      234\n",
       "Country              Holy See\n",
       "Population (2024)         496\n",
       "Yearly Change             0.0\n",
       "Net Change                  0\n",
       "Density (P/Km²)         1,240\n",
       "Land Area (Km²)             0\n",
       "Migrants (net)             18\n",
       "Fert. Rate                1.0\n",
       "Med. Age                   59\n",
       "Urban Pop %              N.A.\n",
       "Name: 233, dtype: object"
      ]
     },
     "execution_count": 7,
     "metadata": {},
     "output_type": "execute_result"
    }
   ],
   "source": [
    "# 2.Find the country with the smallest population in 2024.\n",
    "df.loc[df['Population (2024)'].idxmin()]"
   ]
  },
  {
   "cell_type": "code",
   "execution_count": 8,
   "id": "323844de",
   "metadata": {},
   "outputs": [
    {
     "data": {
      "text/html": [
       "<div>\n",
       "<style scoped>\n",
       "    .dataframe tbody tr th:only-of-type {\n",
       "        vertical-align: middle;\n",
       "    }\n",
       "\n",
       "    .dataframe tbody tr th {\n",
       "        vertical-align: top;\n",
       "    }\n",
       "\n",
       "    .dataframe thead th {\n",
       "        text-align: right;\n",
       "    }\n",
       "</style>\n",
       "<table border=\"1\" class=\"dataframe\">\n",
       "  <thead>\n",
       "    <tr style=\"text-align: right;\">\n",
       "      <th></th>\n",
       "      <th>Country</th>\n",
       "      <th>Population (2024)</th>\n",
       "    </tr>\n",
       "  </thead>\n",
       "  <tbody>\n",
       "    <tr>\n",
       "      <th>0</th>\n",
       "      <td>India</td>\n",
       "      <td>1450935791</td>\n",
       "    </tr>\n",
       "    <tr>\n",
       "      <th>1</th>\n",
       "      <td>China</td>\n",
       "      <td>1419321278</td>\n",
       "    </tr>\n",
       "    <tr>\n",
       "      <th>2</th>\n",
       "      <td>United States</td>\n",
       "      <td>345426571</td>\n",
       "    </tr>\n",
       "    <tr>\n",
       "      <th>3</th>\n",
       "      <td>Indonesia</td>\n",
       "      <td>283487931</td>\n",
       "    </tr>\n",
       "    <tr>\n",
       "      <th>4</th>\n",
       "      <td>Pakistan</td>\n",
       "      <td>251269164</td>\n",
       "    </tr>\n",
       "    <tr>\n",
       "      <th>5</th>\n",
       "      <td>Nigeria</td>\n",
       "      <td>232679478</td>\n",
       "    </tr>\n",
       "    <tr>\n",
       "      <th>6</th>\n",
       "      <td>Brazil</td>\n",
       "      <td>211998573</td>\n",
       "    </tr>\n",
       "    <tr>\n",
       "      <th>7</th>\n",
       "      <td>Bangladesh</td>\n",
       "      <td>173562364</td>\n",
       "    </tr>\n",
       "    <tr>\n",
       "      <th>8</th>\n",
       "      <td>Russia</td>\n",
       "      <td>144820423</td>\n",
       "    </tr>\n",
       "    <tr>\n",
       "      <th>9</th>\n",
       "      <td>Ethiopia</td>\n",
       "      <td>132059767</td>\n",
       "    </tr>\n",
       "  </tbody>\n",
       "</table>\n",
       "</div>"
      ],
      "text/plain": [
       "         Country  Population (2024)\n",
       "0          India         1450935791\n",
       "1          China         1419321278\n",
       "2  United States          345426571\n",
       "3      Indonesia          283487931\n",
       "4       Pakistan          251269164\n",
       "5        Nigeria          232679478\n",
       "6         Brazil          211998573\n",
       "7     Bangladesh          173562364\n",
       "8         Russia          144820423\n",
       "9       Ethiopia          132059767"
      ]
     },
     "execution_count": 8,
     "metadata": {},
     "output_type": "execute_result"
    }
   ],
   "source": [
    "# 3. Rank the top 10 most populated countries\n",
    "df.nlargest(10,'Population (2024)')[['Country','Population (2024)']]"
   ]
  },
  {
   "cell_type": "code",
   "execution_count": 9,
   "id": "9be3f1a5",
   "metadata": {},
   "outputs": [
    {
     "data": {
      "text/html": [
       "<div>\n",
       "<style scoped>\n",
       "    .dataframe tbody tr th:only-of-type {\n",
       "        vertical-align: middle;\n",
       "    }\n",
       "\n",
       "    .dataframe tbody tr th {\n",
       "        vertical-align: top;\n",
       "    }\n",
       "\n",
       "    .dataframe thead th {\n",
       "        text-align: right;\n",
       "    }\n",
       "</style>\n",
       "<table border=\"1\" class=\"dataframe\">\n",
       "  <thead>\n",
       "    <tr style=\"text-align: right;\">\n",
       "      <th></th>\n",
       "      <th>Country</th>\n",
       "      <th>Population (2024)</th>\n",
       "    </tr>\n",
       "  </thead>\n",
       "  <tbody>\n",
       "    <tr>\n",
       "      <th>233</th>\n",
       "      <td>Holy See</td>\n",
       "      <td>496</td>\n",
       "    </tr>\n",
       "    <tr>\n",
       "      <th>232</th>\n",
       "      <td>Niue</td>\n",
       "      <td>1819</td>\n",
       "    </tr>\n",
       "    <tr>\n",
       "      <th>231</th>\n",
       "      <td>Tokelau</td>\n",
       "      <td>2506</td>\n",
       "    </tr>\n",
       "    <tr>\n",
       "      <th>230</th>\n",
       "      <td>Falkland Islands</td>\n",
       "      <td>3470</td>\n",
       "    </tr>\n",
       "    <tr>\n",
       "      <th>229</th>\n",
       "      <td>Montserrat</td>\n",
       "      <td>4389</td>\n",
       "    </tr>\n",
       "    <tr>\n",
       "      <th>228</th>\n",
       "      <td>Saint Helena</td>\n",
       "      <td>5237</td>\n",
       "    </tr>\n",
       "    <tr>\n",
       "      <th>227</th>\n",
       "      <td>Saint Pierre &amp; Miquelon</td>\n",
       "      <td>5628</td>\n",
       "    </tr>\n",
       "    <tr>\n",
       "      <th>226</th>\n",
       "      <td>Tuvalu</td>\n",
       "      <td>9646</td>\n",
       "    </tr>\n",
       "    <tr>\n",
       "      <th>225</th>\n",
       "      <td>Saint Barthelemy</td>\n",
       "      <td>11258</td>\n",
       "    </tr>\n",
       "    <tr>\n",
       "      <th>224</th>\n",
       "      <td>Wallis &amp; Futuna</td>\n",
       "      <td>11277</td>\n",
       "    </tr>\n",
       "  </tbody>\n",
       "</table>\n",
       "</div>"
      ],
      "text/plain": [
       "                     Country  Population (2024)\n",
       "233                 Holy See                496\n",
       "232                     Niue               1819\n",
       "231                  Tokelau               2506\n",
       "230         Falkland Islands               3470\n",
       "229               Montserrat               4389\n",
       "228             Saint Helena               5237\n",
       "227  Saint Pierre & Miquelon               5628\n",
       "226                   Tuvalu               9646\n",
       "225         Saint Barthelemy              11258\n",
       "224          Wallis & Futuna              11277"
      ]
     },
     "execution_count": 9,
     "metadata": {},
     "output_type": "execute_result"
    }
   ],
   "source": [
    "# 4. Rank the bottom 10 least populated countries.\n",
    "df.nsmallest(10,'Population (2024)')[['Country','Population (2024)']]"
   ]
  },
  {
   "cell_type": "code",
   "execution_count": 10,
   "id": "57d3143a",
   "metadata": {},
   "outputs": [
    {
     "name": "stdout",
     "output_type": "stream",
     "text": [
      "The average population across all countries is 34874074.45726496\n"
     ]
    }
   ],
   "source": [
    "# 5. Calculate the average population across all countries.\n",
    "aveg = df['Population (2024)'].mean()\n",
    "print('The average population across all countries is',aveg)    "
   ]
  },
  {
   "cell_type": "code",
   "execution_count": 11,
   "id": "7da10400",
   "metadata": {},
   "outputs": [
    {
     "name": "stdout",
     "output_type": "stream",
     "text": [
      "The total world population is 8160533423\n"
     ]
    }
   ],
   "source": [
    "# 6. Check the total world population (sum of all countries)\n",
    "world_pop = df['Population (2024)'].sum()\n",
    "print('The total world population is',world_pop)"
   ]
  },
  {
   "cell_type": "code",
   "execution_count": 12,
   "id": "9b7b9183",
   "metadata": {},
   "outputs": [
    {
     "name": "stdout",
     "output_type": "stream",
     "text": [
      "The total world population is 8.160533423 billions\n"
     ]
    }
   ],
   "source": [
    "# convert figure into billions\n",
    "world_pop = world_pop/1000000000\n",
    "print('The total world population is',world_pop,'billions')\n"
   ]
  },
  {
   "cell_type": "code",
   "execution_count": 13,
   "id": "2b3cc701",
   "metadata": {},
   "outputs": [
    {
     "name": "stdout",
     "output_type": "stream",
     "text": [
      "The median population is 5615063.5\n"
     ]
    }
   ],
   "source": [
    "# 7.Identify the median population (middle country when sorted).\n",
    "median = df['Population (2024)'].median()\n",
    "print('The median population is',median)"
   ]
  },
  {
   "cell_type": "markdown",
   "id": "7c8150d7",
   "metadata": {},
   "source": [
    "## 2. Yearly Change & Growth\n",
    "8. Find the country with the highest yearly growth (%).\n",
    "9. Find the country with the lowest yearly growth (%) (could even be negative).\n",
    "10. Compare absolute net change in population across countries.\n",
    "11. Identify countries with population decline.\n",
    "12. Check if large populations always have higher net change.\n",
    "13. Calculate the average yearly growth (%) across all countries."
   ]
  },
  {
   "cell_type": "code",
   "execution_count": 14,
   "id": "c8631f6b",
   "metadata": {},
   "outputs": [
    {
     "data": {
      "text/plain": [
       "Rank                        65\n",
       "Country                   Chad\n",
       "Population (2024)     20299123\n",
       "Yearly Change           0.0507\n",
       "Net Change              980059\n",
       "Density (P/Km²)             16\n",
       "Land Area (Km²)      1,259,200\n",
       "Migrants (net)         204,040\n",
       "Fert. Rate                 6.0\n",
       "Med. Age                    16\n",
       "Urban Pop %               0.22\n",
       "Name: 64, dtype: object"
      ]
     },
     "execution_count": 14,
     "metadata": {},
     "output_type": "execute_result"
    }
   ],
   "source": [
    "# 8. Find the country with the highest yearly growth (%)\n",
    "df.loc[df['Yearly Change'].idxmax()]"
   ]
  },
  {
   "cell_type": "code",
   "execution_count": 15,
   "id": "2ac3a01a",
   "metadata": {},
   "outputs": [
    {
     "data": {
      "text/plain": [
       "Rank                          220\n",
       "Country              Saint Martin\n",
       "Population (2024)           26129\n",
       "Yearly Change             -0.0504\n",
       "Net Change                  -1386\n",
       "Density (P/Km²)               493\n",
       "Land Area (Km²)                53\n",
       "Migrants (net)             -1,424\n",
       "Fert. Rate                    2.7\n",
       "Med. Age                       41\n",
       "Urban Pop %                     0\n",
       "Name: 219, dtype: object"
      ]
     },
     "execution_count": 15,
     "metadata": {},
     "output_type": "execute_result"
    }
   ],
   "source": [
    "# 9. Find the country with the lowest yearly growth (%)\n",
    "df.loc[df['Yearly Change'].idxmin()]"
   ]
  },
  {
   "cell_type": "code",
   "execution_count": 16,
   "id": "8468a67c",
   "metadata": {},
   "outputs": [],
   "source": [
    "# 10. Compare absolute net change in population across countries.\n",
    "top1 = df.loc[df['Net Change'].idxmin()]"
   ]
  },
  {
   "cell_type": "code",
   "execution_count": 17,
   "id": "944ca759",
   "metadata": {},
   "outputs": [
    {
     "data": {
      "text/plain": [
       "Rank                          2\n",
       "Country                   China\n",
       "Population (2024)    1419321278\n",
       "Yearly Change           -0.0023\n",
       "Net Change             -3263655\n",
       "Density (P/Km²)             151\n",
       "Land Area (Km²)       9,388,211\n",
       "Migrants (net)         -318,992\n",
       "Fert. Rate                  1.0\n",
       "Med. Age                     40\n",
       "Urban Pop %                0.66\n",
       "Name: 1, dtype: object"
      ]
     },
     "execution_count": 17,
     "metadata": {},
     "output_type": "execute_result"
    }
   ],
   "source": [
    "# 11. Identify countries with population decline.\n",
    "df.loc[df['Net Change'].idxmin()]"
   ]
  },
  {
   "cell_type": "code",
   "execution_count": 18,
   "id": "249df223",
   "metadata": {},
   "outputs": [
    {
     "name": "stdout",
     "output_type": "stream",
     "text": [
      "The average yearly growth (%) across all countries is 0.009423931623931623\n"
     ]
    }
   ],
   "source": [
    "# 12. Calculate the average yearly growth (%) across all countries.\n",
    "aveg = df['Yearly Change'].mean()\n",
    "print('The average yearly growth (%) across all countries is',aveg)"
   ]
  },
  {
   "cell_type": "markdown",
   "id": "ccc2437a",
   "metadata": {},
   "source": [
    "Density & Land Area\n",
    "\n",
    "Find the country with the highest population density (P/km²).\n",
    "\n",
    "Find the country with the lowest population density.\n",
    "\n",
    "Compare countries with large land areas but low density (e.g., Canada, Russia).\n",
    "\n",
    "Compare countries with small land areas but high density (e.g., Singapore, Bangladesh).\n",
    "\n"
   ]
  },
  {
   "cell_type": "code",
   "execution_count": 19,
   "id": "3f01e849",
   "metadata": {},
   "outputs": [
    {
     "data": {
      "text/plain": [
       "Rank                       26\n",
       "Country                 Kenya\n",
       "Population (2024)    56432944\n",
       "Yearly Change          0.0198\n",
       "Net Change            1093941\n",
       "Density (P/Km²)            99\n",
       "Land Area (Km²)       569,140\n",
       "Migrants (net)        -19,781\n",
       "Fert. Rate                3.2\n",
       "Med. Age                   20\n",
       "Urban Pop %              0.31\n",
       "Name: 25, dtype: object"
      ]
     },
     "execution_count": 19,
     "metadata": {},
     "output_type": "execute_result"
    }
   ],
   "source": [
    "# Find the country with the highest population density (P/km²).\n",
    "df.loc[df['Density (P/Km²)'].idxmax()]"
   ]
  },
  {
   "cell_type": "code",
   "execution_count": 20,
   "id": "9a7174b6",
   "metadata": {},
   "outputs": [
    {
     "data": {
      "text/plain": [
       "Rank                       206\n",
       "Country              Greenland\n",
       "Population (2024)        55840\n",
       "Yearly Change          -0.0015\n",
       "Net Change                 -82\n",
       "Density (P/Km²)              0\n",
       "Land Area (Km²)        410,450\n",
       "Migrants (net)            -284\n",
       "Fert. Rate                 1.9\n",
       "Med. Age                    35\n",
       "Urban Pop %                0.9\n",
       "Name: 205, dtype: object"
      ]
     },
     "execution_count": 20,
     "metadata": {},
     "output_type": "execute_result"
    }
   ],
   "source": [
    "# Find the country with the lowest population density.\n",
    "df.loc[df['Density (P/Km²)'].idxmin()]"
   ]
  },
  {
   "cell_type": "code",
   "execution_count": 21,
   "id": "eee1e207",
   "metadata": {},
   "outputs": [
    {
     "data": {
      "text/plain": [
       "Rank                        13\n",
       "Country                  Egypt\n",
       "Population (2024)    116538258\n",
       "Yearly Change           0.0175\n",
       "Net Change             2002486\n",
       "Density (P/Km²)            117\n",
       "Land Area (Km²)        995,450\n",
       "Migrants (net)         123,884\n",
       "Fert. Rate                 2.7\n",
       "Med. Age                    24\n",
       "Urban Pop %               0.41\n",
       "Name: 12, dtype: object"
      ]
     },
     "execution_count": 21,
     "metadata": {},
     "output_type": "execute_result"
    }
   ],
   "source": [
    "# Compare countries with large land areas but low density (e.g., Canada, Russia).\n",
    "df.loc[df['Land Area (Km²)'].idxmax()]"
   ]
  },
  {
   "cell_type": "code",
   "execution_count": 25,
   "id": "ddc4ce8c",
   "metadata": {},
   "outputs": [
    {
     "data": {
      "text/plain": [
       "Rank                      234\n",
       "Country              Holy See\n",
       "Population (2024)         496\n",
       "Yearly Change             0.0\n",
       "Net Change                  0\n",
       "Density (P/Km²)         1,240\n",
       "Land Area (Km²)             0\n",
       "Migrants (net)             18\n",
       "Fert. Rate                1.0\n",
       "Med. Age                   59\n",
       "Urban Pop %              N.A.\n",
       "Name: 233, dtype: object"
      ]
     },
     "execution_count": 25,
     "metadata": {},
     "output_type": "execute_result"
    }
   ],
   "source": [
    "# Compare countries with small land areas but high density (e.g., Singapore, Bangladesh).\n",
    "df.loc[df['Land Area (Km²)'].idxmin()]"
   ]
  },
  {
   "cell_type": "markdown",
   "id": "e69a5047",
   "metadata": {},
   "source": [
    "5. Fertility & Age Structure\n",
    "Find the country with the highest fertility rate.\n",
    "\n",
    "Find the country with the lowest fertility rate.\n",
    "\n",
    "Compare fertility rates of developed vs. developing countries.\n",
    "\n",
    "Find the country with the youngest median age.\n",
    "\n",
    "Find the country with the oldest median age.\n",
    "\n",
    "Check if fertility rate is linked with population growth."
   ]
  },
  {
   "cell_type": "code",
   "execution_count": 26,
   "id": "6434bde9",
   "metadata": {},
   "outputs": [
    {
     "data": {
      "text/plain": [
       "Rank                        15\n",
       "Country               DR Congo\n",
       "Population (2024)    109276265\n",
       "Yearly Change            0.033\n",
       "Net Change             3486534\n",
       "Density (P/Km²)             48\n",
       "Land Area (Km²)      2,267,050\n",
       "Migrants (net)         -26,968\n",
       "Fert. Rate                 6.0\n",
       "Med. Age                    16\n",
       "Urban Pop %               0.44\n",
       "Name: 14, dtype: object"
      ]
     },
     "execution_count": 26,
     "metadata": {},
     "output_type": "execute_result"
    }
   ],
   "source": [
    "# Find the country with the highest fertility rate.\n",
    "df.loc[df['Fert. Rate'].idxmax()]"
   ]
  },
  {
   "cell_type": "code",
   "execution_count": 28,
   "id": "7bb04adc",
   "metadata": {},
   "outputs": [
    {
     "data": {
      "text/plain": [
       "Rank                          29\n",
       "Country              South Korea\n",
       "Population (2024)       51717590\n",
       "Yearly Change            -0.0006\n",
       "Net Change                -31149\n",
       "Density (P/Km²)              532\n",
       "Land Area (Km²)           97,230\n",
       "Migrants (net)            75,963\n",
       "Fert. Rate                   0.7\n",
       "Med. Age                      45\n",
       "Urban Pop %                 0.82\n",
       "Name: 28, dtype: object"
      ]
     },
     "execution_count": 28,
     "metadata": {},
     "output_type": "execute_result"
    }
   ],
   "source": [
    "# Find the country with the lowest fertility rate.\n",
    "df.loc[df['Fert. Rate'].idxmin()]"
   ]
  }
 ],
 "metadata": {
  "kernelspec": {
   "display_name": "Python_EDA_FullCourse",
   "language": "python",
   "name": "python3"
  },
  "language_info": {
   "codemirror_mode": {
    "name": "ipython",
    "version": 3
   },
   "file_extension": ".py",
   "mimetype": "text/x-python",
   "name": "python",
   "nbconvert_exporter": "python",
   "pygments_lexer": "ipython3",
   "version": "3.13.5"
  }
 },
 "nbformat": 4,
 "nbformat_minor": 5
}
