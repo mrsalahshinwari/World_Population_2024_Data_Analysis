{
 "cells": [
  {
   "cell_type": "markdown",
   "id": "bd62bb07",
   "metadata": {},
   "source": [
    "## About Dataset \n",
    "---\n",
    "This dataset provides information on the population statistics of various countries for the years 2023 and 2024. It includes details such as the total area of each country, population density, growth rate, percentage of the world population, and world rank by population.\n",
    "\n",
    "Data source = https://www.kaggle.com/datasets/dataanalyst001/world-population-by-country-2024\n",
    "\n",
    "The Questions, I Ask from data\n",
    "___\n",
    "## Basic Population Insights\n",
    "\n",
    "1. Find the country with the largest population in 2024.\n",
    "2. Find the country with the smallest population in 2024.\n",
    "3. Rank the top 10 most populated countries.\n",
    "4. Rank the bottom 10 least populated countries.\n",
    "5. Calculate the average population across all countries.\n",
    "6. Check the total world population (sum of all countries).\n",
    "7. Identify the median population (middle country when sorted).\n",
    "\n",
    "The Answer given by data \n",
    "---"
   ]
  },
  {
   "cell_type": "markdown",
   "id": "61546459",
   "metadata": {},
   "source": [
    "Loading libraries \n",
    " & Quick lookup on data "
   ]
  },
  {
   "cell_type": "code",
   "execution_count": 111,
   "id": "9cc1aa4b",
   "metadata": {},
   "outputs": [],
   "source": [
    "# load all librires pandas, seaborn, matplotlib, numpy\n",
    "import pandas as pd\n",
    "import numpy as np\n",
    "import matplotlib.pyplot as plt\n",
    "import seaborn as sns"
   ]
  },
  {
   "cell_type": "code",
   "execution_count": 112,
   "id": "e123fcba",
   "metadata": {},
   "outputs": [],
   "source": [
    "# load data set worldpop\n",
    "df = pd.read_csv('worldpop.csv')"
   ]
  },
  {
   "cell_type": "code",
   "execution_count": 113,
   "id": "6a122965",
   "metadata": {},
   "outputs": [
    {
     "data": {
      "text/html": [
       "<div>\n",
       "<style scoped>\n",
       "    .dataframe tbody tr th:only-of-type {\n",
       "        vertical-align: middle;\n",
       "    }\n",
       "\n",
       "    .dataframe tbody tr th {\n",
       "        vertical-align: top;\n",
       "    }\n",
       "\n",
       "    .dataframe thead th {\n",
       "        text-align: right;\n",
       "    }\n",
       "</style>\n",
       "<table border=\"1\" class=\"dataframe\">\n",
       "  <thead>\n",
       "    <tr style=\"text-align: right;\">\n",
       "      <th></th>\n",
       "      <th>Rank</th>\n",
       "      <th>Country</th>\n",
       "      <th>Population (2024)</th>\n",
       "      <th>Yearly Change</th>\n",
       "      <th>Net Change</th>\n",
       "      <th>Density (P/Km²)</th>\n",
       "      <th>Land Area (Km²)</th>\n",
       "      <th>Migrants (net)</th>\n",
       "      <th>Fert. Rate</th>\n",
       "      <th>Med. Age</th>\n",
       "      <th>Urban Pop %</th>\n",
       "    </tr>\n",
       "  </thead>\n",
       "  <tbody>\n",
       "    <tr>\n",
       "      <th>0</th>\n",
       "      <td>1</td>\n",
       "      <td>India</td>\n",
       "      <td>1450935791</td>\n",
       "      <td>0.0089</td>\n",
       "      <td>12866195</td>\n",
       "      <td>488</td>\n",
       "      <td>2973190</td>\n",
       "      <td>-630830</td>\n",
       "      <td>2.0</td>\n",
       "      <td>28</td>\n",
       "      <td>0.37</td>\n",
       "    </tr>\n",
       "    <tr>\n",
       "      <th>1</th>\n",
       "      <td>2</td>\n",
       "      <td>China</td>\n",
       "      <td>1419321278</td>\n",
       "      <td>-0.0023</td>\n",
       "      <td>-3263655</td>\n",
       "      <td>151</td>\n",
       "      <td>9388211</td>\n",
       "      <td>-318992</td>\n",
       "      <td>1.0</td>\n",
       "      <td>40</td>\n",
       "      <td>0.66</td>\n",
       "    </tr>\n",
       "    <tr>\n",
       "      <th>2</th>\n",
       "      <td>3</td>\n",
       "      <td>United States</td>\n",
       "      <td>345426571</td>\n",
       "      <td>0.0057</td>\n",
       "      <td>1949236</td>\n",
       "      <td>38</td>\n",
       "      <td>9147420</td>\n",
       "      <td>1286132</td>\n",
       "      <td>1.6</td>\n",
       "      <td>38</td>\n",
       "      <td>0.82</td>\n",
       "    </tr>\n",
       "    <tr>\n",
       "      <th>3</th>\n",
       "      <td>4</td>\n",
       "      <td>Indonesia</td>\n",
       "      <td>283487931</td>\n",
       "      <td>0.0082</td>\n",
       "      <td>2297864</td>\n",
       "      <td>156</td>\n",
       "      <td>1811570</td>\n",
       "      <td>-38469</td>\n",
       "      <td>2.1</td>\n",
       "      <td>30</td>\n",
       "      <td>0.59</td>\n",
       "    </tr>\n",
       "    <tr>\n",
       "      <th>4</th>\n",
       "      <td>5</td>\n",
       "      <td>Pakistan</td>\n",
       "      <td>251269164</td>\n",
       "      <td>0.0152</td>\n",
       "      <td>3764669</td>\n",
       "      <td>326</td>\n",
       "      <td>770880</td>\n",
       "      <td>-1401173</td>\n",
       "      <td>3.5</td>\n",
       "      <td>20</td>\n",
       "      <td>0.34</td>\n",
       "    </tr>\n",
       "  </tbody>\n",
       "</table>\n",
       "</div>"
      ],
      "text/plain": [
       "   Rank        Country  Population (2024)  Yearly Change  Net Change  \\\n",
       "0     1          India         1450935791         0.0089    12866195   \n",
       "1     2          China         1419321278        -0.0023    -3263655   \n",
       "2     3  United States          345426571         0.0057     1949236   \n",
       "3     4      Indonesia          283487931         0.0082     2297864   \n",
       "4     5       Pakistan          251269164         0.0152     3764669   \n",
       "\n",
       "  Density (P/Km²)  Land Area (Km²)  Migrants (net)  Fert. Rate  Med. Age  \\\n",
       "0             488          2973190         -630830         2.0        28   \n",
       "1             151          9388211         -318992         1.0        40   \n",
       "2              38          9147420         1286132         1.6        38   \n",
       "3             156          1811570          -38469         2.1        30   \n",
       "4             326           770880        -1401173         3.5        20   \n",
       "\n",
       "  Urban Pop %  \n",
       "0        0.37  \n",
       "1        0.66  \n",
       "2        0.82  \n",
       "3        0.59  \n",
       "4        0.34  "
      ]
     },
     "execution_count": 113,
     "metadata": {},
     "output_type": "execute_result"
    }
   ],
   "source": [
    "# quick look into data\n",
    "df.head()"
   ]
  },
  {
   "cell_type": "code",
   "execution_count": 114,
   "id": "a0d4dac3",
   "metadata": {},
   "outputs": [
    {
     "data": {
      "text/html": [
       "<div>\n",
       "<style scoped>\n",
       "    .dataframe tbody tr th:only-of-type {\n",
       "        vertical-align: middle;\n",
       "    }\n",
       "\n",
       "    .dataframe tbody tr th {\n",
       "        vertical-align: top;\n",
       "    }\n",
       "\n",
       "    .dataframe thead th {\n",
       "        text-align: right;\n",
       "    }\n",
       "</style>\n",
       "<table border=\"1\" class=\"dataframe\">\n",
       "  <thead>\n",
       "    <tr style=\"text-align: right;\">\n",
       "      <th></th>\n",
       "      <th>Rank</th>\n",
       "      <th>Population (2024)</th>\n",
       "      <th>Yearly Change</th>\n",
       "      <th>Net Change</th>\n",
       "      <th>Land Area (Km²)</th>\n",
       "      <th>Migrants (net)</th>\n",
       "      <th>Fert. Rate</th>\n",
       "      <th>Med. Age</th>\n",
       "    </tr>\n",
       "  </thead>\n",
       "  <tbody>\n",
       "    <tr>\n",
       "      <th>count</th>\n",
       "      <td>231.000000</td>\n",
       "      <td>2.310000e+02</td>\n",
       "      <td>231.000000</td>\n",
       "      <td>2.310000e+02</td>\n",
       "      <td>2.310000e+02</td>\n",
       "      <td>2.310000e+02</td>\n",
       "      <td>231.000000</td>\n",
       "      <td>231.000000</td>\n",
       "    </tr>\n",
       "    <tr>\n",
       "      <th>mean</th>\n",
       "      <td>116.121212</td>\n",
       "      <td>3.532673e+07</td>\n",
       "      <td>0.009561</td>\n",
       "      <td>3.041285e+05</td>\n",
       "      <td>5.613475e+05</td>\n",
       "      <td>7.678788e+01</td>\n",
       "      <td>2.342424</td>\n",
       "      <td>31.502165</td>\n",
       "    </tr>\n",
       "    <tr>\n",
       "      <th>std</th>\n",
       "      <td>67.017084</td>\n",
       "      <td>1.391888e+08</td>\n",
       "      <td>0.013705</td>\n",
       "      <td>1.070404e+06</td>\n",
       "      <td>1.701208e+06</td>\n",
       "      <td>1.804624e+05</td>\n",
       "      <td>1.166124</td>\n",
       "      <td>9.680493</td>\n",
       "    </tr>\n",
       "    <tr>\n",
       "      <th>min</th>\n",
       "      <td>1.000000</td>\n",
       "      <td>1.819000e+03</td>\n",
       "      <td>-0.050400</td>\n",
       "      <td>-3.263655e+06</td>\n",
       "      <td>1.000000e+00</td>\n",
       "      <td>-1.401173e+06</td>\n",
       "      <td>0.700000</td>\n",
       "      <td>14.000000</td>\n",
       "    </tr>\n",
       "    <tr>\n",
       "      <th>25%</th>\n",
       "      <td>58.500000</td>\n",
       "      <td>5.273610e+05</td>\n",
       "      <td>0.000400</td>\n",
       "      <td>1.175000e+02</td>\n",
       "      <td>2.710000e+03</td>\n",
       "      <td>-1.223750e+04</td>\n",
       "      <td>1.500000</td>\n",
       "      <td>23.000000</td>\n",
       "    </tr>\n",
       "    <tr>\n",
       "      <th>50%</th>\n",
       "      <td>116.000000</td>\n",
       "      <td>5.805962e+06</td>\n",
       "      <td>0.008800</td>\n",
       "      <td>2.438500e+04</td>\n",
       "      <td>8.220000e+04</td>\n",
       "      <td>-6.040000e+02</td>\n",
       "      <td>2.000000</td>\n",
       "      <td>32.000000</td>\n",
       "    </tr>\n",
       "    <tr>\n",
       "      <th>75%</th>\n",
       "      <td>173.500000</td>\n",
       "      <td>2.401369e+07</td>\n",
       "      <td>0.018850</td>\n",
       "      <td>2.235950e+05</td>\n",
       "      <td>4.038200e+05</td>\n",
       "      <td>3.498500e+03</td>\n",
       "      <td>3.000000</td>\n",
       "      <td>40.000000</td>\n",
       "    </tr>\n",
       "    <tr>\n",
       "      <th>max</th>\n",
       "      <td>233.000000</td>\n",
       "      <td>1.450936e+09</td>\n",
       "      <td>0.050700</td>\n",
       "      <td>1.286620e+07</td>\n",
       "      <td>1.637687e+07</td>\n",
       "      <td>1.286132e+06</td>\n",
       "      <td>6.000000</td>\n",
       "      <td>54.000000</td>\n",
       "    </tr>\n",
       "  </tbody>\n",
       "</table>\n",
       "</div>"
      ],
      "text/plain": [
       "             Rank  Population (2024)  Yearly Change    Net Change  \\\n",
       "count  231.000000       2.310000e+02     231.000000  2.310000e+02   \n",
       "mean   116.121212       3.532673e+07       0.009561  3.041285e+05   \n",
       "std     67.017084       1.391888e+08       0.013705  1.070404e+06   \n",
       "min      1.000000       1.819000e+03      -0.050400 -3.263655e+06   \n",
       "25%     58.500000       5.273610e+05       0.000400  1.175000e+02   \n",
       "50%    116.000000       5.805962e+06       0.008800  2.438500e+04   \n",
       "75%    173.500000       2.401369e+07       0.018850  2.235950e+05   \n",
       "max    233.000000       1.450936e+09       0.050700  1.286620e+07   \n",
       "\n",
       "       Land Area (Km²)  Migrants (net)  Fert. Rate    Med. Age  \n",
       "count     2.310000e+02    2.310000e+02  231.000000  231.000000  \n",
       "mean      5.613475e+05    7.678788e+01    2.342424   31.502165  \n",
       "std       1.701208e+06    1.804624e+05    1.166124    9.680493  \n",
       "min       1.000000e+00   -1.401173e+06    0.700000   14.000000  \n",
       "25%       2.710000e+03   -1.223750e+04    1.500000   23.000000  \n",
       "50%       8.220000e+04   -6.040000e+02    2.000000   32.000000  \n",
       "75%       4.038200e+05    3.498500e+03    3.000000   40.000000  \n",
       "max       1.637687e+07    1.286132e+06    6.000000   54.000000  "
      ]
     },
     "execution_count": 114,
     "metadata": {},
     "output_type": "execute_result"
    }
   ],
   "source": [
    "# quick analysis\n",
    "df.describe()"
   ]
  },
  {
   "cell_type": "markdown",
   "id": "353ce398",
   "metadata": {},
   "source": [
    "## Basic Population Insights\n",
    "---\n",
    "1. Find the country with the largest population in 2024.\n",
    "2. Find the country with the smallest population in 2024.\n",
    "3. Rank the top 10 most populated countries.\n",
    "4. Rank the bottom 10 least populated countries.\n",
    "5. Calculate the average population across all countries.\n",
    "6. Check the total world population (sum of all countries).\n",
    "7. Identify the median population (middle country when sorted)."
   ]
  },
  {
   "cell_type": "code",
   "execution_count": 115,
   "id": "5a6b1cc5",
   "metadata": {},
   "outputs": [
    {
     "name": "stdout",
     "output_type": "stream",
     "text": [
      "<class 'pandas.core.frame.DataFrame'>\n",
      "RangeIndex: 231 entries, 0 to 230\n",
      "Data columns (total 11 columns):\n",
      " #   Column             Non-Null Count  Dtype  \n",
      "---  ------             --------------  -----  \n",
      " 0   Rank               231 non-null    int64  \n",
      " 1   Country            231 non-null    object \n",
      " 2   Population (2024)  231 non-null    int64  \n",
      " 3   Yearly Change      231 non-null    float64\n",
      " 4   Net Change         231 non-null    int64  \n",
      " 5   Density (P/Km²)    231 non-null    object \n",
      " 6   Land Area (Km²)    231 non-null    int64  \n",
      " 7   Migrants (net)     231 non-null    int64  \n",
      " 8   Fert. Rate         231 non-null    float64\n",
      " 9   Med. Age           231 non-null    int64  \n",
      " 10  Urban Pop %        231 non-null    object \n",
      "dtypes: float64(2), int64(6), object(3)\n",
      "memory usage: 20.0+ KB\n"
     ]
    }
   ],
   "source": [
    "# quick look into data\n",
    "df.info()"
   ]
  },
  {
   "cell_type": "code",
   "execution_count": 116,
   "id": "c87d1e12",
   "metadata": {},
   "outputs": [
    {
     "name": "stdout",
     "output_type": "stream",
     "text": [
      "The world's Highest population country is India and its population in 2024 is 1,450,935,791.\n"
     ]
    }
   ],
   "source": [
    "# 1. Find the country with the largest population in 2024.\n",
    "# Find the row with maximum population\n",
    "Toppopcountry = df.loc[df['Population (2024)'].idxmax()]\n",
    "\n",
    "# Extract values\n",
    "country = Toppopcountry['Country']\n",
    "population = Toppopcountry['Population (2024)']\n",
    "\n",
    "# Print sentence\n",
    "print(f\"The world's Highest population country is {country} and its population in 2024 is {population:,}.\")\n",
    "\n"
   ]
  },
  {
   "cell_type": "code",
   "execution_count": 117,
   "id": "88b44b42",
   "metadata": {},
   "outputs": [
    {
     "name": "stdout",
     "output_type": "stream",
     "text": [
      "The world's Least populated country is Niue and its population in 2024 is 1,819.\n"
     ]
    }
   ],
   "source": [
    "# 2.Find the country with the smallest population in 2024.\n",
    "Toppopcountry = df.loc[df['Population (2024)'].idxmin()]\n",
    "\n",
    "# Extract values\n",
    "country = Toppopcountry['Country']\n",
    "population = Toppopcountry['Population (2024)']\n",
    "\n",
    "# Print sentence\n",
    "print(f\"The world's Least populated country is {country} and its population in 2024 is {population:,}.\")\n",
    "\n"
   ]
  },
  {
   "cell_type": "code",
   "execution_count": 118,
   "id": "323844de",
   "metadata": {},
   "outputs": [
    {
     "data": {
      "text/html": [
       "<div>\n",
       "<style scoped>\n",
       "    .dataframe tbody tr th:only-of-type {\n",
       "        vertical-align: middle;\n",
       "    }\n",
       "\n",
       "    .dataframe tbody tr th {\n",
       "        vertical-align: top;\n",
       "    }\n",
       "\n",
       "    .dataframe thead th {\n",
       "        text-align: right;\n",
       "    }\n",
       "</style>\n",
       "<table border=\"1\" class=\"dataframe\">\n",
       "  <thead>\n",
       "    <tr style=\"text-align: right;\">\n",
       "      <th></th>\n",
       "      <th>Country</th>\n",
       "      <th>Population (2024)</th>\n",
       "    </tr>\n",
       "  </thead>\n",
       "  <tbody>\n",
       "    <tr>\n",
       "      <th>0</th>\n",
       "      <td>India</td>\n",
       "      <td>1450935791</td>\n",
       "    </tr>\n",
       "    <tr>\n",
       "      <th>1</th>\n",
       "      <td>China</td>\n",
       "      <td>1419321278</td>\n",
       "    </tr>\n",
       "    <tr>\n",
       "      <th>2</th>\n",
       "      <td>United States</td>\n",
       "      <td>345426571</td>\n",
       "    </tr>\n",
       "    <tr>\n",
       "      <th>3</th>\n",
       "      <td>Indonesia</td>\n",
       "      <td>283487931</td>\n",
       "    </tr>\n",
       "    <tr>\n",
       "      <th>4</th>\n",
       "      <td>Pakistan</td>\n",
       "      <td>251269164</td>\n",
       "    </tr>\n",
       "  </tbody>\n",
       "</table>\n",
       "</div>"
      ],
      "text/plain": [
       "         Country  Population (2024)\n",
       "0          India         1450935791\n",
       "1          China         1419321278\n",
       "2  United States          345426571\n",
       "3      Indonesia          283487931\n",
       "4       Pakistan          251269164"
      ]
     },
     "execution_count": 118,
     "metadata": {},
     "output_type": "execute_result"
    }
   ],
   "source": [
    "# 3. Rank the top 10 most populated countries\n",
    "df.nlargest(5,'Population (2024)')[['Country','Population (2024)']]"
   ]
  },
  {
   "cell_type": "code",
   "execution_count": 119,
   "id": "9be3f1a5",
   "metadata": {},
   "outputs": [
    {
     "data": {
      "text/html": [
       "<div>\n",
       "<style scoped>\n",
       "    .dataframe tbody tr th:only-of-type {\n",
       "        vertical-align: middle;\n",
       "    }\n",
       "\n",
       "    .dataframe tbody tr th {\n",
       "        vertical-align: top;\n",
       "    }\n",
       "\n",
       "    .dataframe thead th {\n",
       "        text-align: right;\n",
       "    }\n",
       "</style>\n",
       "<table border=\"1\" class=\"dataframe\">\n",
       "  <thead>\n",
       "    <tr style=\"text-align: right;\">\n",
       "      <th></th>\n",
       "      <th>Country</th>\n",
       "      <th>Population (2024)</th>\n",
       "    </tr>\n",
       "  </thead>\n",
       "  <tbody>\n",
       "    <tr>\n",
       "      <th>230</th>\n",
       "      <td>Niue</td>\n",
       "      <td>1819</td>\n",
       "    </tr>\n",
       "    <tr>\n",
       "      <th>229</th>\n",
       "      <td>Tokelau</td>\n",
       "      <td>2506</td>\n",
       "    </tr>\n",
       "    <tr>\n",
       "      <th>228</th>\n",
       "      <td>Montserrat</td>\n",
       "      <td>4389</td>\n",
       "    </tr>\n",
       "    <tr>\n",
       "      <th>227</th>\n",
       "      <td>Saint Helena</td>\n",
       "      <td>5237</td>\n",
       "    </tr>\n",
       "    <tr>\n",
       "      <th>226</th>\n",
       "      <td>Saint Pierre &amp; Miquelon</td>\n",
       "      <td>5628</td>\n",
       "    </tr>\n",
       "  </tbody>\n",
       "</table>\n",
       "</div>"
      ],
      "text/plain": [
       "                     Country  Population (2024)\n",
       "230                     Niue               1819\n",
       "229                  Tokelau               2506\n",
       "228               Montserrat               4389\n",
       "227             Saint Helena               5237\n",
       "226  Saint Pierre & Miquelon               5628"
      ]
     },
     "execution_count": 119,
     "metadata": {},
     "output_type": "execute_result"
    }
   ],
   "source": [
    "# 4. Rank the bottom 10 least populated countries.\n",
    "df.nsmallest(5,'Population (2024)')[['Country','Population (2024)']]"
   ]
  },
  {
   "cell_type": "code",
   "execution_count": 120,
   "id": "57d3143a",
   "metadata": {},
   "outputs": [
    {
     "name": "stdout",
     "output_type": "stream",
     "text": [
      "The average population across all countries is 35326725.614718616\n"
     ]
    }
   ],
   "source": [
    "# 5. Calculate the average population across all countries.\n",
    "aveg = df['Population (2024)'].mean()\n",
    "print('The average population across all countries is',aveg)    "
   ]
  },
  {
   "cell_type": "code",
   "execution_count": 121,
   "id": "7da10400",
   "metadata": {},
   "outputs": [
    {
     "name": "stdout",
     "output_type": "stream",
     "text": [
      "The total world population is 8160473617\n"
     ]
    }
   ],
   "source": [
    "# 6. Check the total world population (sum of all countries)\n",
    "world_pop = df['Population (2024)'].sum()\n",
    "print('The total world population is',world_pop)"
   ]
  },
  {
   "cell_type": "code",
   "execution_count": 122,
   "id": "9b7b9183",
   "metadata": {},
   "outputs": [
    {
     "name": "stdout",
     "output_type": "stream",
     "text": [
      "The total world population is 8.160473617 billions\n"
     ]
    }
   ],
   "source": [
    "# convert figure into billions\n",
    "world_pop = world_pop/1000000000\n",
    "print('The total world population is',world_pop,'billions')\n"
   ]
  },
  {
   "cell_type": "code",
   "execution_count": 123,
   "id": "2b3cc701",
   "metadata": {},
   "outputs": [
    {
     "name": "stdout",
     "output_type": "stream",
     "text": [
      "The median population is 5805962.0\n"
     ]
    }
   ],
   "source": [
    "# 7.Identify the median population (middle country when sorted).\n",
    "median = df['Population (2024)'].median()\n",
    "print('The median population is',median)"
   ]
  },
  {
   "cell_type": "markdown",
   "id": "7c8150d7",
   "metadata": {},
   "source": [
    "## 2. Yearly Change & Growth\n",
    "---\n",
    "8. Find the country with the highest yearly growth (%).\n",
    "9. Find the country with the lowest yearly growth (%) (could even be negative).\n",
    "10. Compare absolute net change in population across countries.\n",
    "11. Identify countries with population decline.\n",
    "13. Calculate the average yearly growth (%) across all countries."
   ]
  },
  {
   "cell_type": "code",
   "execution_count": 124,
   "id": "c8631f6b",
   "metadata": {},
   "outputs": [
    {
     "name": "stdout",
     "output_type": "stream",
     "text": [
      "The country with the highest yearly growth is Chad with a growth rate of 5.07%\n"
     ]
    }
   ],
   "source": [
    "# 8. Find the country with the highest yearly growth (%)\n",
    "Heightgrowth = df.loc[df['Yearly Change'].idxmax()]\n",
    "country = Heightgrowth['Country']\n",
    "growth = Heightgrowth['Yearly Change']\n",
    "print(f\"The country with the highest yearly growth is {country} with a growth rate of {growth*100:.2f}%\")\n"
   ]
  },
  {
   "cell_type": "code",
   "execution_count": 125,
   "id": "2ac3a01a",
   "metadata": {},
   "outputs": [
    {
     "name": "stdout",
     "output_type": "stream",
     "text": [
      "The country with the highest yearly growth is Saint Martin with a growth rate of -5.04%\n"
     ]
    }
   ],
   "source": [
    "# 9. Find the country with the lowest yearly growth (%)\n",
    "lowestgrowth = df.loc[df['Yearly Change'].idxmin()]\n",
    "country = lowestgrowth['Country']\n",
    "growth = lowestgrowth['Yearly Change']\n",
    "print(f\"The country with the highest yearly growth is {country} with a growth rate of {growth*100:.2f}%\")\n"
   ]
  },
  {
   "cell_type": "code",
   "execution_count": 126,
   "id": "8468a67c",
   "metadata": {},
   "outputs": [
    {
     "name": "stdout",
     "output_type": "stream",
     "text": [
      "The country with the highest net change in population is China with a net change of -3,263,655\n"
     ]
    }
   ],
   "source": [
    "# 10. Compare absolute net change in population across countries.\n",
    "Top1 = df.loc[df['Net Change'].idxmin()]\n",
    "country = Top1['Country']\n",
    "netchange = Top1['Net Change']\n",
    "print(f\"The country with the highest net change in population is {country} with a net change of {netchange:,}\")"
   ]
  },
  {
   "cell_type": "code",
   "execution_count": 127,
   "id": "944ca759",
   "metadata": {},
   "outputs": [
    {
     "name": "stdout",
     "output_type": "stream",
     "text": [
      "The country with the highest net change in population is China with a net change of -3,263,655\n"
     ]
    }
   ],
   "source": [
    "# 11. Identify countries with population decline.\n",
    "dec = df.loc[df['Net Change'].idxmin()]\n",
    "country = dec['Country']\n",
    "netchange = dec['Net Change']\n",
    "print(f\"The country with the highest net change in population is {country} with a net change of {netchange:,}\")"
   ]
  },
  {
   "cell_type": "code",
   "execution_count": 128,
   "id": "249df223",
   "metadata": {},
   "outputs": [
    {
     "name": "stdout",
     "output_type": "stream",
     "text": [
      "The average gwoth rate across all countries is 0.96%\n"
     ]
    }
   ],
   "source": [
    "# 12. Calculate the average yearly growth (%) across all countries.\n",
    "aveg = df['Yearly Change'].mean()\n",
    "print(f\"The average gwoth rate across all countries is {aveg*100:.2f}%\")"
   ]
  },
  {
   "cell_type": "markdown",
   "id": "ccc2437a",
   "metadata": {},
   "source": [
    "### Density & Land Area\n",
    "---\n",
    "13. Find the country with the highest population density (P/km²).\n",
    "14. Find the country with the lowest population density.\n",
    "15. Compare countries with large land areas but low density (e.g., Canada, Russia).\n",
    "16. Compare countries with small land areas but high density (e.g., Singapore, Bangladesh)."
   ]
  },
  {
   "cell_type": "code",
   "execution_count": 142,
   "id": "3f01e849",
   "metadata": {},
   "outputs": [
    {
     "name": "stdout",
     "output_type": "stream",
     "text": [
      "The country with highest population density is Kenya and their desity (P/km²) 99 People\n"
     ]
    }
   ],
   "source": [
    "# 13 Find the country with the highest population density (P/km²).\n",
    "Densedcountry = df.loc[df['Density (P/Km²)'].idxmax()]\n",
    "print(f\"The country with highest population density is {Densedcountry['Country']} and their desity (P/km²) {Densedcountry['Density (P/Km²)']} People\")\n",
    "\n"
   ]
  },
  {
   "cell_type": "code",
   "execution_count": 130,
   "id": "9a7174b6",
   "metadata": {},
   "outputs": [
    {
     "name": "stdout",
     "output_type": "stream",
     "text": [
      "The country with lowest population density is Sint Maarten and their desity (P/km²) 1,275 People\n"
     ]
    }
   ],
   "source": [
    "# 14. Find the country with the lowest population density.\n",
    "Densedcountry = df.loc[df['Density (P/Km²)'].idxmin()]\n",
    "country= Densedcountry['Country']\n",
    "desity = Densedcountry['Density (P/Km²)']\n",
    "print(f\"The country with lowest population density is {country} and their desity (P/km²) {desity} People\")"
   ]
  },
  {
   "cell_type": "code",
   "execution_count": 131,
   "id": "eee1e207",
   "metadata": {},
   "outputs": [
    {
     "name": "stdout",
     "output_type": "stream",
     "text": [
      "The country with highest land area is Russia and their density (P/km²) is 1,275\n"
     ]
    }
   ],
   "source": [
    "# 15. Compare countries with large land areas but low density (e.g., Canada, Russia).\n",
    "landarea = df.loc[df['Land Area (Km²)'].idxmax()]\n",
    "density = df.loc[df['Density (P/Km²)'].idxmin()]\n",
    "print(f\"The country with highest land area is {landarea['Country']} and their density (P/km²) is {density['Density (P/Km²)']}\")"
   ]
  },
  {
   "cell_type": "code",
   "execution_count": 132,
   "id": "ddc4ce8c",
   "metadata": {},
   "outputs": [
    {
     "name": "stdout",
     "output_type": "stream",
     "text": [
      "The country with highest land area is Monaco and their density (P/km²) is 99\n"
     ]
    }
   ],
   "source": [
    "# 16. Compare countries with small land areas but high density (e.g., Singapore, Bangladesh).\n",
    "landarea2 = df.loc[df['Land Area (Km²)'].idxmin()]\n",
    "density2 = df.loc[df['Density (P/Km²)'].idxmax()]\n",
    "print(f\"The country with highest land area is {landarea2['Country']} and their density (P/km²) is {density2['Density (P/Km²)']}\")"
   ]
  },
  {
   "cell_type": "markdown",
   "id": "e69a5047",
   "metadata": {},
   "source": [
    "### Fertility & Age Structure\n",
    "17. Find the country with the highest fertility rate.\n",
    "18. Find the country with the lowest fertility rate.\n",
    "19. Compare fertility rates of developed vs. developing & less developed countries.\n",
    "20. Find the country with the youngest median age.\n",
    "21. Find the country with the oldest median age."
   ]
  },
  {
   "cell_type": "code",
   "execution_count": 133,
   "id": "6434bde9",
   "metadata": {},
   "outputs": [
    {
     "name": "stdout",
     "output_type": "stream",
     "text": [
      "The height fertility rate country is DR Congo with fertility rate 6.0\n"
     ]
    }
   ],
   "source": [
    "# 17. Find the country with the highest fertility rate.\n",
    "Hfer = df.loc[df['Fert. Rate'].idxmax()]\n",
    "print(f\"The height fertility rate country is {Hfer['Country']} with fertility rate {Hfer['Fert. Rate']}\")"
   ]
  },
  {
   "cell_type": "code",
   "execution_count": 134,
   "id": "7bb04adc",
   "metadata": {},
   "outputs": [
    {
     "name": "stdout",
     "output_type": "stream",
     "text": [
      "The lowest fertility rate country is South Korea with fertility rate 0.7\n"
     ]
    }
   ],
   "source": [
    "# 18. Find the country with the lowest fertility rate.\n",
    "Lfer = df.loc[df['Fert. Rate'].idxmin()]\n",
    "print(f\"The lowest fertility rate country is {Lfer['Country']} with fertility rate {Lfer['Fert. Rate']}\")\n"
   ]
  },
  {
   "cell_type": "code",
   "execution_count": 135,
   "id": "5384bef9",
   "metadata": {},
   "outputs": [
    {
     "name": "stdout",
     "output_type": "stream",
     "text": [
      "                      Country  Fert. Rate\n",
      "14                   DR Congo         6.0\n",
      "64                       Chad         6.0\n",
      "121  Central African Republic         6.0\n",
      "67                    Somalia         6.0\n",
      "53                      Niger         5.9\n",
      "57                       Mali         5.5\n",
      "40                     Angola         5.0\n",
      "77                    Burundi         4.8\n",
      "35                Afghanistan         4.8\n",
      "44                 Mozambique         4.7\n"
     ]
    }
   ],
   "source": [
    "# 19. Compare fertility rates of developed vs. developing countries.\n",
    "developed = df.loc[df['Fert. Rate'] > 4][['Country','Fert. Rate']].sort_values('Fert. Rate',ascending=False).nlargest(10,'Fert. Rate')\n",
    "print(developed)"
   ]
  },
  {
   "cell_type": "code",
   "execution_count": 136,
   "id": "38196bcf",
   "metadata": {},
   "outputs": [
    {
     "name": "stdout",
     "output_type": "stream",
     "text": [
      "           Country  Fert. Rate\n",
      "9         Ethiopia         3.9\n",
      "48      Madagascar         3.9\n",
      "117        Liberia         3.9\n",
      "143         Gambia         3.9\n",
      "68         Senegal         3.8\n",
      "147  Guinea-Bissau         3.8\n",
      "80     South Sudan         3.8\n",
      "188          Samoa         3.8\n",
      "162        Comoros         3.8\n",
      "73        Zimbabwe         3.7\n"
     ]
    }
   ],
   "source": [
    "developing = df.loc[(df['Fert. Rate'] > 3) & (df['Fert. Rate'] < 4), ['Country', 'Fert. Rate']].sort_values('Fert. Rate', ascending=False).nlargest(10,'Fert. Rate')\n",
    "print(developing)"
   ]
  },
  {
   "cell_type": "code",
   "execution_count": 137,
   "id": "b3f2e23d",
   "metadata": {},
   "outputs": [
    {
     "name": "stdout",
     "output_type": "stream",
     "text": [
      "              Country  Fert. Rate\n",
      "215  Marshall Islands         2.9\n",
      "173        Micronesia         2.8\n",
      "106        Kyrgyzstan         2.8\n",
      "97             Israel         2.8\n",
      "12              Egypt         2.7\n",
      "32            Algeria         2.7\n",
      "191              Guam         2.7\n",
      "218      Saint Martin         2.7\n",
      "146           Lesotho         2.7\n",
      "103      Turkmenistan         2.7\n"
     ]
    }
   ],
   "source": [
    "# less developed country\n",
    "lessdeveloped = df.loc[df['Fert. Rate'] < 3][['Country', 'Fert. Rate']].sort_values('Fert. Rate', ascending=True).nlargest(10,'Fert. Rate')\n",
    "print(lessdeveloped)"
   ]
  },
  {
   "cell_type": "code",
   "execution_count": 138,
   "id": "84125aee",
   "metadata": {},
   "outputs": [
    {
     "name": "stdout",
     "output_type": "stream",
     "text": [
      "The country with the youngest median age is Central African Republic with median age 14\n"
     ]
    }
   ],
   "source": [
    "# 20.  Find the country with the youngest median age.\n",
    "Youth = df.loc[df['Med. Age'].idxmin()]\n",
    "print(f\"The country with the youngest median age is {Youth['Country']} with median age {Youth['Med. Age']}\")\n"
   ]
  },
  {
   "cell_type": "code",
   "execution_count": 139,
   "id": "26218f39",
   "metadata": {},
   "outputs": [
    {
     "name": "stdout",
     "output_type": "stream",
     "text": [
      "The country with the oldest median age is Monaco with median age 54\n"
     ]
    }
   ],
   "source": [
    "# 21. Find the country with the oldest median age.\n",
    "old = df.loc[df['Med. Age'].idxmax()]\n",
    "print(f\"The country with the oldest median age is {old['Country']} with median age {old['Med. Age']}\")"
   ]
  },
  {
   "cell_type": "markdown",
   "id": "c50cf33c",
   "metadata": {},
   "source": [
    "### Migration & Urbanization\n",
    "22. Find the countries with the highest positive migration (net inflow).\n",
    "23. Find the countries with the highest negative migration (net outflow).\n",
    "24. Compare migration trends in highly populated vs. less populated countries.\n",
    "25. Identify countries with 100% urban population (if any).\n",
    "26. Compare countries with lowest urbanization % (mostly rural).\n",
    "27. Check if urbanization % is related to median age."
   ]
  },
  {
   "cell_type": "code",
   "execution_count": 140,
   "id": "723f7a6b",
   "metadata": {},
   "outputs": [
    {
     "name": "stdout",
     "output_type": "stream",
     "text": [
      "The country with the highest positive migration is United States with net inflow 1286132\n"
     ]
    }
   ],
   "source": [
    "# 22. Find the countries with the highest positive migration (net inflow).\n",
    "inflow = df.loc[df['Migrants (net)'].idxmax()]\n",
    "print(f\"The country with the highest positive migration is {inflow['Country']} with net inflow {inflow['Migrants (net)']}\")"
   ]
  },
  {
   "cell_type": "code",
   "execution_count": 141,
   "id": "6a7e8af6",
   "metadata": {},
   "outputs": [
    {
     "name": "stdout",
     "output_type": "stream",
     "text": [
      "The country with the highest negative migration is Pakistan with net outflow -1401173\n"
     ]
    }
   ],
   "source": [
    "# 23. Find the countries with the highest negative migration (net outflow).\n",
    "outflow = df.loc[df['Migrants (net)'].idxmin()]\n",
    "print(f\"The country with the highest negative migration is {outflow['Country']} with net outflow {outflow['Migrants (net)']}\")"
   ]
  }
 ],
 "metadata": {
  "kernelspec": {
   "display_name": "Python_EDA_FullCourse",
   "language": "python",
   "name": "python3"
  },
  "language_info": {
   "codemirror_mode": {
    "name": "ipython",
    "version": 3
   },
   "file_extension": ".py",
   "mimetype": "text/x-python",
   "name": "python",
   "nbconvert_exporter": "python",
   "pygments_lexer": "ipython3",
   "version": "3.13.5"
  }
 },
 "nbformat": 4,
 "nbformat_minor": 5
}
