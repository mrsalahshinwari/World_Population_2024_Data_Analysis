{
 "cells": [
  {
   "cell_type": "markdown",
   "id": "bd62bb07",
   "metadata": {},
   "source": [
    "## About Dataset \n",
    "---\n",
    "This dataset provides information on the population statistics of various countries for the years 2023 and 2024. It includes details such as the total area of each country, population density, growth rate, percentage of the world population, and world rank by population.\n",
    "\n",
    "Data source = https://www.kaggle.com/datasets/dataanalyst001/world-population-by-country-2024\n",
    "\n",
    "The Questions, I Ask from data\n",
    "___\n",
    "## Basic Population Insights\n",
    "\n",
    "1. Find the country with the largest population in 2024.\n",
    "2. Find the country with the smallest population in 2024.\n",
    "3. Rank the top 10 most populated countries.\n",
    "4. Rank the bottom 10 least populated countries.\n",
    "5. Calculate the average population across all countries.\n",
    "6. Check the total world population (sum of all countries).\n",
    "7. Identify the median population (middle country when sorted).\n",
    "\n",
    "The Answer given by data \n",
    "---"
   ]
  },
  {
   "cell_type": "markdown",
   "id": "61546459",
   "metadata": {},
   "source": [
    "Loading libraries \n",
    " & Quick lookup on data "
   ]
  },
  {
   "cell_type": "code",
   "execution_count": 217,
   "id": "9cc1aa4b",
   "metadata": {},
   "outputs": [],
   "source": [
    "# load all librires pandas, seaborn, matplotlib, numpy\n",
    "import pandas as pd\n",
    "import numpy as np\n",
    "import matplotlib.pyplot as plt\n",
    "import seaborn as sns"
   ]
  },
  {
   "cell_type": "code",
   "execution_count": 218,
   "id": "e123fcba",
   "metadata": {},
   "outputs": [],
   "source": [
    "# load data set worldpop\n",
    "df = pd.read_csv('worldpop.csv')"
   ]
  },
  {
   "cell_type": "code",
   "execution_count": 219,
   "id": "6a122965",
   "metadata": {},
   "outputs": [
    {
     "data": {
      "text/html": [
       "<div>\n",
       "<style scoped>\n",
       "    .dataframe tbody tr th:only-of-type {\n",
       "        vertical-align: middle;\n",
       "    }\n",
       "\n",
       "    .dataframe tbody tr th {\n",
       "        vertical-align: top;\n",
       "    }\n",
       "\n",
       "    .dataframe thead th {\n",
       "        text-align: right;\n",
       "    }\n",
       "</style>\n",
       "<table border=\"1\" class=\"dataframe\">\n",
       "  <thead>\n",
       "    <tr style=\"text-align: right;\">\n",
       "      <th></th>\n",
       "      <th>Rank</th>\n",
       "      <th>Country</th>\n",
       "      <th>Population (2024)</th>\n",
       "      <th>Yearly Change</th>\n",
       "      <th>Net Change</th>\n",
       "      <th>Density (P/Km²)</th>\n",
       "      <th>Land Area (Km²)</th>\n",
       "      <th>Migrants (net)</th>\n",
       "      <th>Fert. Rate</th>\n",
       "      <th>Med. Age</th>\n",
       "      <th>Urban Pop %</th>\n",
       "    </tr>\n",
       "  </thead>\n",
       "  <tbody>\n",
       "    <tr>\n",
       "      <th>0</th>\n",
       "      <td>1</td>\n",
       "      <td>India</td>\n",
       "      <td>1450935791</td>\n",
       "      <td>0.0089</td>\n",
       "      <td>12866195</td>\n",
       "      <td>488</td>\n",
       "      <td>2,973,190</td>\n",
       "      <td>-630,830</td>\n",
       "      <td>2.0</td>\n",
       "      <td>28</td>\n",
       "      <td>0.37</td>\n",
       "    </tr>\n",
       "    <tr>\n",
       "      <th>1</th>\n",
       "      <td>2</td>\n",
       "      <td>China</td>\n",
       "      <td>1419321278</td>\n",
       "      <td>-0.0023</td>\n",
       "      <td>-3263655</td>\n",
       "      <td>151</td>\n",
       "      <td>9,388,211</td>\n",
       "      <td>-318,992</td>\n",
       "      <td>1.0</td>\n",
       "      <td>40</td>\n",
       "      <td>0.66</td>\n",
       "    </tr>\n",
       "    <tr>\n",
       "      <th>2</th>\n",
       "      <td>3</td>\n",
       "      <td>United States</td>\n",
       "      <td>345426571</td>\n",
       "      <td>0.0057</td>\n",
       "      <td>1949236</td>\n",
       "      <td>38</td>\n",
       "      <td>9,147,420</td>\n",
       "      <td>1,286,132</td>\n",
       "      <td>1.6</td>\n",
       "      <td>38</td>\n",
       "      <td>0.82</td>\n",
       "    </tr>\n",
       "    <tr>\n",
       "      <th>3</th>\n",
       "      <td>4</td>\n",
       "      <td>Indonesia</td>\n",
       "      <td>283487931</td>\n",
       "      <td>0.0082</td>\n",
       "      <td>2297864</td>\n",
       "      <td>156</td>\n",
       "      <td>1,811,570</td>\n",
       "      <td>-38,469</td>\n",
       "      <td>2.1</td>\n",
       "      <td>30</td>\n",
       "      <td>0.59</td>\n",
       "    </tr>\n",
       "    <tr>\n",
       "      <th>4</th>\n",
       "      <td>5</td>\n",
       "      <td>Pakistan</td>\n",
       "      <td>251269164</td>\n",
       "      <td>0.0152</td>\n",
       "      <td>3764669</td>\n",
       "      <td>326</td>\n",
       "      <td>770,880</td>\n",
       "      <td>-1,401,173</td>\n",
       "      <td>3.5</td>\n",
       "      <td>20</td>\n",
       "      <td>0.34</td>\n",
       "    </tr>\n",
       "  </tbody>\n",
       "</table>\n",
       "</div>"
      ],
      "text/plain": [
       "   Rank        Country  Population (2024)  Yearly Change  Net Change  \\\n",
       "0     1          India         1450935791         0.0089    12866195   \n",
       "1     2          China         1419321278        -0.0023    -3263655   \n",
       "2     3  United States          345426571         0.0057     1949236   \n",
       "3     4      Indonesia          283487931         0.0082     2297864   \n",
       "4     5       Pakistan          251269164         0.0152     3764669   \n",
       "\n",
       "  Density (P/Km²) Land Area (Km²) Migrants (net)  Fert. Rate  Med. Age  \\\n",
       "0             488       2,973,190       -630,830         2.0        28   \n",
       "1             151       9,388,211       -318,992         1.0        40   \n",
       "2              38       9,147,420      1,286,132         1.6        38   \n",
       "3             156       1,811,570        -38,469         2.1        30   \n",
       "4             326         770,880     -1,401,173         3.5        20   \n",
       "\n",
       "  Urban Pop %  \n",
       "0        0.37  \n",
       "1        0.66  \n",
       "2        0.82  \n",
       "3        0.59  \n",
       "4        0.34  "
      ]
     },
     "execution_count": 219,
     "metadata": {},
     "output_type": "execute_result"
    }
   ],
   "source": [
    "# quick look into data\n",
    "df.head()"
   ]
  },
  {
   "cell_type": "code",
   "execution_count": 220,
   "id": "a0d4dac3",
   "metadata": {},
   "outputs": [
    {
     "data": {
      "text/html": [
       "<div>\n",
       "<style scoped>\n",
       "    .dataframe tbody tr th:only-of-type {\n",
       "        vertical-align: middle;\n",
       "    }\n",
       "\n",
       "    .dataframe tbody tr th {\n",
       "        vertical-align: top;\n",
       "    }\n",
       "\n",
       "    .dataframe thead th {\n",
       "        text-align: right;\n",
       "    }\n",
       "</style>\n",
       "<table border=\"1\" class=\"dataframe\">\n",
       "  <thead>\n",
       "    <tr style=\"text-align: right;\">\n",
       "      <th></th>\n",
       "      <th>Rank</th>\n",
       "      <th>Population (2024)</th>\n",
       "      <th>Yearly Change</th>\n",
       "      <th>Net Change</th>\n",
       "      <th>Fert. Rate</th>\n",
       "      <th>Med. Age</th>\n",
       "    </tr>\n",
       "  </thead>\n",
       "  <tbody>\n",
       "    <tr>\n",
       "      <th>count</th>\n",
       "      <td>234.000000</td>\n",
       "      <td>2.340000e+02</td>\n",
       "      <td>234.000000</td>\n",
       "      <td>2.340000e+02</td>\n",
       "      <td>234.000000</td>\n",
       "      <td>234.000000</td>\n",
       "    </tr>\n",
       "    <tr>\n",
       "      <th>mean</th>\n",
       "      <td>117.500000</td>\n",
       "      <td>3.487407e+07</td>\n",
       "      <td>0.009424</td>\n",
       "      <td>3.002291e+05</td>\n",
       "      <td>2.332051</td>\n",
       "      <td>31.679487</td>\n",
       "    </tr>\n",
       "    <tr>\n",
       "      <th>std</th>\n",
       "      <td>67.694165</td>\n",
       "      <td>1.383471e+08</td>\n",
       "      <td>0.013671</td>\n",
       "      <td>1.064043e+06</td>\n",
       "      <td>1.163002</td>\n",
       "      <td>9.810427</td>\n",
       "    </tr>\n",
       "    <tr>\n",
       "      <th>min</th>\n",
       "      <td>1.000000</td>\n",
       "      <td>4.960000e+02</td>\n",
       "      <td>-0.050400</td>\n",
       "      <td>-3.263655e+06</td>\n",
       "      <td>0.700000</td>\n",
       "      <td>14.000000</td>\n",
       "    </tr>\n",
       "    <tr>\n",
       "      <th>25%</th>\n",
       "      <td>59.250000</td>\n",
       "      <td>4.782600e+05</td>\n",
       "      <td>0.000100</td>\n",
       "      <td>7.525000e+01</td>\n",
       "      <td>1.500000</td>\n",
       "      <td>23.000000</td>\n",
       "    </tr>\n",
       "    <tr>\n",
       "      <th>50%</th>\n",
       "      <td>117.500000</td>\n",
       "      <td>5.615064e+06</td>\n",
       "      <td>0.008600</td>\n",
       "      <td>1.878150e+04</td>\n",
       "      <td>2.000000</td>\n",
       "      <td>32.500000</td>\n",
       "    </tr>\n",
       "    <tr>\n",
       "      <th>75%</th>\n",
       "      <td>175.750000</td>\n",
       "      <td>2.346508e+07</td>\n",
       "      <td>0.018750</td>\n",
       "      <td>2.139155e+05</td>\n",
       "      <td>2.975000</td>\n",
       "      <td>40.000000</td>\n",
       "    </tr>\n",
       "    <tr>\n",
       "      <th>max</th>\n",
       "      <td>234.000000</td>\n",
       "      <td>1.450936e+09</td>\n",
       "      <td>0.050700</td>\n",
       "      <td>1.286620e+07</td>\n",
       "      <td>6.000000</td>\n",
       "      <td>59.000000</td>\n",
       "    </tr>\n",
       "  </tbody>\n",
       "</table>\n",
       "</div>"
      ],
      "text/plain": [
       "             Rank  Population (2024)  Yearly Change    Net Change  Fert. Rate  \\\n",
       "count  234.000000       2.340000e+02     234.000000  2.340000e+02  234.000000   \n",
       "mean   117.500000       3.487407e+07       0.009424  3.002291e+05    2.332051   \n",
       "std     67.694165       1.383471e+08       0.013671  1.064043e+06    1.163002   \n",
       "min      1.000000       4.960000e+02      -0.050400 -3.263655e+06    0.700000   \n",
       "25%     59.250000       4.782600e+05       0.000100  7.525000e+01    1.500000   \n",
       "50%    117.500000       5.615064e+06       0.008600  1.878150e+04    2.000000   \n",
       "75%    175.750000       2.346508e+07       0.018750  2.139155e+05    2.975000   \n",
       "max    234.000000       1.450936e+09       0.050700  1.286620e+07    6.000000   \n",
       "\n",
       "         Med. Age  \n",
       "count  234.000000  \n",
       "mean    31.679487  \n",
       "std      9.810427  \n",
       "min     14.000000  \n",
       "25%     23.000000  \n",
       "50%     32.500000  \n",
       "75%     40.000000  \n",
       "max     59.000000  "
      ]
     },
     "execution_count": 220,
     "metadata": {},
     "output_type": "execute_result"
    }
   ],
   "source": [
    "# quick analysis\n",
    "df.describe()"
   ]
  },
  {
   "cell_type": "markdown",
   "id": "353ce398",
   "metadata": {},
   "source": [
    "## Basic Population Insights\n",
    "---\n",
    "1. Find the country with the largest population in 2024.\n",
    "2. Find the country with the smallest population in 2024.\n",
    "3. Rank the top 10 most populated countries.\n",
    "4. Rank the bottom 10 least populated countries.\n",
    "5. Calculate the average population across all countries.\n",
    "6. Check the total world population (sum of all countries).\n",
    "7. Identify the median population (middle country when sorted)."
   ]
  },
  {
   "cell_type": "code",
   "execution_count": 221,
   "id": "5a6b1cc5",
   "metadata": {},
   "outputs": [
    {
     "name": "stdout",
     "output_type": "stream",
     "text": [
      "<class 'pandas.core.frame.DataFrame'>\n",
      "RangeIndex: 234 entries, 0 to 233\n",
      "Data columns (total 11 columns):\n",
      " #   Column             Non-Null Count  Dtype  \n",
      "---  ------             --------------  -----  \n",
      " 0   Rank               234 non-null    int64  \n",
      " 1   Country            234 non-null    object \n",
      " 2   Population (2024)  234 non-null    int64  \n",
      " 3   Yearly Change      234 non-null    float64\n",
      " 4   Net Change         234 non-null    int64  \n",
      " 5   Density (P/Km²)    234 non-null    object \n",
      " 6   Land Area (Km²)    234 non-null    object \n",
      " 7   Migrants (net)     234 non-null    object \n",
      " 8   Fert. Rate         234 non-null    float64\n",
      " 9   Med. Age           234 non-null    int64  \n",
      " 10  Urban Pop %        234 non-null    object \n",
      "dtypes: float64(2), int64(4), object(5)\n",
      "memory usage: 20.2+ KB\n"
     ]
    }
   ],
   "source": [
    "# quick look into data\n",
    "df.info()"
   ]
  },
  {
   "cell_type": "code",
   "execution_count": 222,
   "id": "c87d1e12",
   "metadata": {},
   "outputs": [
    {
     "name": "stdout",
     "output_type": "stream",
     "text": [
      "The world's Highest population country is India and its population in 2024 is 1,450,935,791.\n"
     ]
    }
   ],
   "source": [
    "# 1. Find the country with the largest population in 2024.\n",
    "# Find the row with maximum population\n",
    "Toppopcountry = df.loc[df['Population (2024)'].idxmax()]\n",
    "\n",
    "# Extract values\n",
    "country = Toppopcountry['Country']\n",
    "population = Toppopcountry['Population (2024)']\n",
    "\n",
    "# Print sentence\n",
    "print(f\"The world's Highest population country is {country} and its population in 2024 is {population:,}.\")\n",
    "\n"
   ]
  },
  {
   "cell_type": "code",
   "execution_count": 223,
   "id": "88b44b42",
   "metadata": {},
   "outputs": [
    {
     "name": "stdout",
     "output_type": "stream",
     "text": [
      "The world's Least populated country is Holy See and its population in 2024 is 496.\n"
     ]
    }
   ],
   "source": [
    "# 2.Find the country with the smallest population in 2024.\n",
    "Toppopcountry = df.loc[df['Population (2024)'].idxmin()]\n",
    "\n",
    "# Extract values\n",
    "country = Toppopcountry['Country']\n",
    "population = Toppopcountry['Population (2024)']\n",
    "\n",
    "# Print sentence\n",
    "print(f\"The world's Least populated country is {country} and its population in 2024 is {population:,}.\")\n",
    "\n"
   ]
  },
  {
   "cell_type": "code",
   "execution_count": 224,
   "id": "323844de",
   "metadata": {},
   "outputs": [
    {
     "data": {
      "text/html": [
       "<div>\n",
       "<style scoped>\n",
       "    .dataframe tbody tr th:only-of-type {\n",
       "        vertical-align: middle;\n",
       "    }\n",
       "\n",
       "    .dataframe tbody tr th {\n",
       "        vertical-align: top;\n",
       "    }\n",
       "\n",
       "    .dataframe thead th {\n",
       "        text-align: right;\n",
       "    }\n",
       "</style>\n",
       "<table border=\"1\" class=\"dataframe\">\n",
       "  <thead>\n",
       "    <tr style=\"text-align: right;\">\n",
       "      <th></th>\n",
       "      <th>Country</th>\n",
       "      <th>Population (2024)</th>\n",
       "    </tr>\n",
       "  </thead>\n",
       "  <tbody>\n",
       "    <tr>\n",
       "      <th>0</th>\n",
       "      <td>India</td>\n",
       "      <td>1450935791</td>\n",
       "    </tr>\n",
       "    <tr>\n",
       "      <th>1</th>\n",
       "      <td>China</td>\n",
       "      <td>1419321278</td>\n",
       "    </tr>\n",
       "    <tr>\n",
       "      <th>2</th>\n",
       "      <td>United States</td>\n",
       "      <td>345426571</td>\n",
       "    </tr>\n",
       "    <tr>\n",
       "      <th>3</th>\n",
       "      <td>Indonesia</td>\n",
       "      <td>283487931</td>\n",
       "    </tr>\n",
       "    <tr>\n",
       "      <th>4</th>\n",
       "      <td>Pakistan</td>\n",
       "      <td>251269164</td>\n",
       "    </tr>\n",
       "  </tbody>\n",
       "</table>\n",
       "</div>"
      ],
      "text/plain": [
       "         Country  Population (2024)\n",
       "0          India         1450935791\n",
       "1          China         1419321278\n",
       "2  United States          345426571\n",
       "3      Indonesia          283487931\n",
       "4       Pakistan          251269164"
      ]
     },
     "execution_count": 224,
     "metadata": {},
     "output_type": "execute_result"
    }
   ],
   "source": [
    "# 3. Rank the top 10 most populated countries\n",
    "df.nlargest(5,'Population (2024)')[['Country','Population (2024)']]"
   ]
  },
  {
   "cell_type": "code",
   "execution_count": 225,
   "id": "9be3f1a5",
   "metadata": {},
   "outputs": [
    {
     "data": {
      "text/html": [
       "<div>\n",
       "<style scoped>\n",
       "    .dataframe tbody tr th:only-of-type {\n",
       "        vertical-align: middle;\n",
       "    }\n",
       "\n",
       "    .dataframe tbody tr th {\n",
       "        vertical-align: top;\n",
       "    }\n",
       "\n",
       "    .dataframe thead th {\n",
       "        text-align: right;\n",
       "    }\n",
       "</style>\n",
       "<table border=\"1\" class=\"dataframe\">\n",
       "  <thead>\n",
       "    <tr style=\"text-align: right;\">\n",
       "      <th></th>\n",
       "      <th>Country</th>\n",
       "      <th>Population (2024)</th>\n",
       "    </tr>\n",
       "  </thead>\n",
       "  <tbody>\n",
       "    <tr>\n",
       "      <th>233</th>\n",
       "      <td>Holy See</td>\n",
       "      <td>496</td>\n",
       "    </tr>\n",
       "    <tr>\n",
       "      <th>232</th>\n",
       "      <td>Niue</td>\n",
       "      <td>1819</td>\n",
       "    </tr>\n",
       "    <tr>\n",
       "      <th>231</th>\n",
       "      <td>Tokelau</td>\n",
       "      <td>2506</td>\n",
       "    </tr>\n",
       "    <tr>\n",
       "      <th>230</th>\n",
       "      <td>Falkland Islands</td>\n",
       "      <td>3470</td>\n",
       "    </tr>\n",
       "    <tr>\n",
       "      <th>229</th>\n",
       "      <td>Montserrat</td>\n",
       "      <td>4389</td>\n",
       "    </tr>\n",
       "  </tbody>\n",
       "</table>\n",
       "</div>"
      ],
      "text/plain": [
       "              Country  Population (2024)\n",
       "233          Holy See                496\n",
       "232              Niue               1819\n",
       "231           Tokelau               2506\n",
       "230  Falkland Islands               3470\n",
       "229        Montserrat               4389"
      ]
     },
     "execution_count": 225,
     "metadata": {},
     "output_type": "execute_result"
    }
   ],
   "source": [
    "# 4. Rank the bottom 10 least populated countries.\n",
    "df.nsmallest(5,'Population (2024)')[['Country','Population (2024)']]"
   ]
  },
  {
   "cell_type": "code",
   "execution_count": 226,
   "id": "57d3143a",
   "metadata": {},
   "outputs": [
    {
     "name": "stdout",
     "output_type": "stream",
     "text": [
      "The average population across all countries is 34874074.45726496\n"
     ]
    }
   ],
   "source": [
    "# 5. Calculate the average population across all countries.\n",
    "aveg = df['Population (2024)'].mean()\n",
    "print('The average population across all countries is',aveg)    "
   ]
  },
  {
   "cell_type": "code",
   "execution_count": 227,
   "id": "7da10400",
   "metadata": {},
   "outputs": [
    {
     "name": "stdout",
     "output_type": "stream",
     "text": [
      "The total world population is 8160533423\n"
     ]
    }
   ],
   "source": [
    "# 6. Check the total world population (sum of all countries)\n",
    "world_pop = df['Population (2024)'].sum()\n",
    "print('The total world population is',world_pop)"
   ]
  },
  {
   "cell_type": "code",
   "execution_count": 228,
   "id": "9b7b9183",
   "metadata": {},
   "outputs": [
    {
     "name": "stdout",
     "output_type": "stream",
     "text": [
      "The total world population is 8.160533423 billions\n"
     ]
    }
   ],
   "source": [
    "# convert figure into billions\n",
    "world_pop = world_pop/1000000000\n",
    "print('The total world population is',world_pop,'billions')\n"
   ]
  },
  {
   "cell_type": "code",
   "execution_count": 229,
   "id": "2b3cc701",
   "metadata": {},
   "outputs": [
    {
     "name": "stdout",
     "output_type": "stream",
     "text": [
      "The median population is 5615063.5\n"
     ]
    }
   ],
   "source": [
    "# 7.Identify the median population (middle country when sorted).\n",
    "median = df['Population (2024)'].median()\n",
    "print('The median population is',median)"
   ]
  },
  {
   "cell_type": "markdown",
   "id": "7c8150d7",
   "metadata": {},
   "source": [
    "## 2. Yearly Change & Growth\n",
    "---\n",
    "8. Find the country with the highest yearly growth (%).\n",
    "9. Find the country with the lowest yearly growth (%) (could even be negative).\n",
    "10. Compare absolute net change in population across countries.\n",
    "11. Identify countries with population decline.\n",
    "13. Calculate the average yearly growth (%) across all countries."
   ]
  },
  {
   "cell_type": "code",
   "execution_count": 243,
   "id": "c8631f6b",
   "metadata": {},
   "outputs": [
    {
     "name": "stdout",
     "output_type": "stream",
     "text": [
      "The country with the highest yearly growth is Chad with a growth rate of 5.07%\n"
     ]
    }
   ],
   "source": [
    "# 8. Find the country with the highest yearly growth (%)\n",
    "Heightgrowth = df.loc[df['Yearly Change'].idxmax()]\n",
    "country = Heightgrowth['Country']\n",
    "growth = Heightgrowth['Yearly Change']\n",
    "print(f\"The country with the highest yearly growth is {country} with a growth rate of {growth*100:.2f}%\")\n"
   ]
  },
  {
   "cell_type": "code",
   "execution_count": 231,
   "id": "2ac3a01a",
   "metadata": {},
   "outputs": [
    {
     "name": "stdout",
     "output_type": "stream",
     "text": [
      "The country with the highest yearly growth is Saint Martin with a growth rate of -5.04%\n"
     ]
    }
   ],
   "source": [
    "# 9. Find the country with the lowest yearly growth (%)\n",
    "lowestgrowth = df.loc[df['Yearly Change'].idxmin()]\n",
    "country = lowestgrowth['Country']\n",
    "growth = lowestgrowth['Yearly Change']\n",
    "print(f\"The country with the highest yearly growth is {country} with a growth rate of {growth*100:.2f}%\")\n"
   ]
  },
  {
   "cell_type": "code",
   "execution_count": 232,
   "id": "8468a67c",
   "metadata": {},
   "outputs": [
    {
     "name": "stdout",
     "output_type": "stream",
     "text": [
      "The country with the highest net change in population is China with a net change of -3,263,655\n"
     ]
    }
   ],
   "source": [
    "# 10. Compare absolute net change in population across countries.\n",
    "Top1 = df.loc[df['Net Change'].idxmin()]\n",
    "country = Top1['Country']\n",
    "netchange = Top1['Net Change']\n",
    "print(f\"The country with the highest net change in population is {country} with a net change of {netchange:,}\")"
   ]
  },
  {
   "cell_type": "code",
   "execution_count": 233,
   "id": "944ca759",
   "metadata": {},
   "outputs": [
    {
     "name": "stdout",
     "output_type": "stream",
     "text": [
      "The country with the highest net change in population is China with a net change of -3,263,655\n"
     ]
    }
   ],
   "source": [
    "# 11. Identify countries with population decline.\n",
    "dec = df.loc[df['Net Change'].idxmin()]\n",
    "country = dec['Country']\n",
    "netchange = dec['Net Change']\n",
    "print(f\"The country with the highest net change in population is {country} with a net change of {netchange:,}\")"
   ]
  },
  {
   "cell_type": "code",
   "execution_count": 234,
   "id": "249df223",
   "metadata": {},
   "outputs": [
    {
     "name": "stdout",
     "output_type": "stream",
     "text": [
      "The average gwoth rate across all countries is 0.94%\n"
     ]
    }
   ],
   "source": [
    "# 12. Calculate the average yearly growth (%) across all countries.\n",
    "aveg = df['Yearly Change'].mean()\n",
    "print(f\"The average gwoth rate across all countries is {aveg*100:.2f}%\")"
   ]
  },
  {
   "cell_type": "markdown",
   "id": "ccc2437a",
   "metadata": {},
   "source": [
    "### Density & Land Area\n",
    "---\n",
    "13. Find the country with the highest population density (P/km²).\n",
    "14. Find the country with the lowest population density.\n",
    "15. Compare countries with large land areas but low density (e.g., Canada, Russia).\n",
    "16. Compare countries with small land areas but high density (e.g., Singapore, Bangladesh)."
   ]
  },
  {
   "cell_type": "code",
   "execution_count": null,
   "id": "3f01e849",
   "metadata": {},
   "outputs": [
    {
     "name": "stdout",
     "output_type": "stream",
     "text": [
      "The country with highest population density is Kenya and their desity (P/km²) 99 people\n"
     ]
    }
   ],
   "source": [
    "# 13 Find the country with the highest population density (P/km²).\n",
    "Densedcountry = df.loc[df['Density (P/Km²)'].idxmax()]\n",
    "country= Densedcountry['Country']\n",
    "desity = Densedcountry['Density (P/Km²)']\n",
    "print(f\"The country with highest population density is {country} and their desity (P/km²) {desity} People\")\n",
    "\n"
   ]
  },
  {
   "cell_type": "code",
   "execution_count": null,
   "id": "9a7174b6",
   "metadata": {},
   "outputs": [
    {
     "data": {
      "text/plain": [
       "Rank                       206\n",
       "Country              Greenland\n",
       "Population (2024)        55840\n",
       "Yearly Change          -0.0015\n",
       "Net Change                 -82\n",
       "Density (P/Km²)              0\n",
       "Land Area (Km²)        410,450\n",
       "Migrants (net)            -284\n",
       "Fert. Rate                 1.9\n",
       "Med. Age                    35\n",
       "Urban Pop %                0.9\n",
       "Name: 205, dtype: object"
      ]
     },
     "execution_count": 236,
     "metadata": {},
     "output_type": "execute_result"
    }
   ],
   "source": [
    "# Find the country with the lowest population density.\n",
    "df.loc[df['Density (P/Km²)'].idxmin()]"
   ]
  },
  {
   "cell_type": "code",
   "execution_count": 237,
   "id": "eee1e207",
   "metadata": {},
   "outputs": [
    {
     "data": {
      "text/plain": [
       "Rank                        13\n",
       "Country                  Egypt\n",
       "Population (2024)    116538258\n",
       "Yearly Change           0.0175\n",
       "Net Change             2002486\n",
       "Density (P/Km²)            117\n",
       "Land Area (Km²)        995,450\n",
       "Migrants (net)         123,884\n",
       "Fert. Rate                 2.7\n",
       "Med. Age                    24\n",
       "Urban Pop %               0.41\n",
       "Name: 12, dtype: object"
      ]
     },
     "execution_count": 237,
     "metadata": {},
     "output_type": "execute_result"
    }
   ],
   "source": [
    "# Compare countries with large land areas but low density (e.g., Canada, Russia).\n",
    "df.loc[df['Land Area (Km²)'].idxmax()]"
   ]
  },
  {
   "cell_type": "code",
   "execution_count": 238,
   "id": "ddc4ce8c",
   "metadata": {},
   "outputs": [
    {
     "data": {
      "text/plain": [
       "Rank                      234\n",
       "Country              Holy See\n",
       "Population (2024)         496\n",
       "Yearly Change             0.0\n",
       "Net Change                  0\n",
       "Density (P/Km²)         1,240\n",
       "Land Area (Km²)             0\n",
       "Migrants (net)             18\n",
       "Fert. Rate                1.0\n",
       "Med. Age                   59\n",
       "Urban Pop %              N.A.\n",
       "Name: 233, dtype: object"
      ]
     },
     "execution_count": 238,
     "metadata": {},
     "output_type": "execute_result"
    }
   ],
   "source": [
    "# Compare countries with small land areas but high density (e.g., Singapore, Bangladesh).\n",
    "df.loc[df['Land Area (Km²)'].idxmin()]"
   ]
  },
  {
   "cell_type": "markdown",
   "id": "e69a5047",
   "metadata": {},
   "source": [
    "5. Fertility & Age Structure\n",
    "Find the country with the highest fertility rate.\n",
    "\n",
    "Find the country with the lowest fertility rate.\n",
    "\n",
    "Compare fertility rates of developed vs. developing countries.\n",
    "\n",
    "Find the country with the youngest median age.\n",
    "\n",
    "Find the country with the oldest median age.\n",
    "\n",
    "Check if fertility rate is linked with population growth."
   ]
  },
  {
   "cell_type": "code",
   "execution_count": 239,
   "id": "6434bde9",
   "metadata": {},
   "outputs": [
    {
     "data": {
      "text/plain": [
       "Rank                15\n",
       "Country       DR Congo\n",
       "Fert. Rate         6.0\n",
       "Name: 14, dtype: object"
      ]
     },
     "execution_count": 239,
     "metadata": {},
     "output_type": "execute_result"
    }
   ],
   "source": [
    "# Find the country with the highest fertility rate.\n",
    "Hfer = df.loc[df['Fert. Rate'].idxmax()]\n",
    "Hfer[['Rank', 'Country', 'Fert. Rate']]"
   ]
  },
  {
   "cell_type": "code",
   "execution_count": 240,
   "id": "7bb04adc",
   "metadata": {},
   "outputs": [
    {
     "data": {
      "text/plain": [
       "Rank                   29\n",
       "Country       South Korea\n",
       "Fert. Rate            0.7\n",
       "Name: 28, dtype: object"
      ]
     },
     "execution_count": 240,
     "metadata": {},
     "output_type": "execute_result"
    }
   ],
   "source": [
    "# Find the country with the lowest fertility rate.\n",
    "Lfer = df.loc[df['Fert. Rate'].idxmin()]\n",
    "Lfer[['Rank', 'Country', 'Fert. Rate']]\n"
   ]
  },
  {
   "cell_type": "code",
   "execution_count": 241,
   "id": "84125aee",
   "metadata": {},
   "outputs": [
    {
     "data": {
      "text/plain": [
       "Rank                             122\n",
       "Country     Central African Republic\n",
       "Med. Age                          14\n",
       "Name: 121, dtype: object"
      ]
     },
     "execution_count": 241,
     "metadata": {},
     "output_type": "execute_result"
    }
   ],
   "source": [
    "# Find the country with the youngest median age.\n",
    "Youth = df.loc[df['Med. Age'].idxmin()]\n",
    "Youth[['Rank', 'Country', 'Med. Age']]\n"
   ]
  }
 ],
 "metadata": {
  "kernelspec": {
   "display_name": "Python_EDA_FullCourse",
   "language": "python",
   "name": "python3"
  },
  "language_info": {
   "codemirror_mode": {
    "name": "ipython",
    "version": 3
   },
   "file_extension": ".py",
   "mimetype": "text/x-python",
   "name": "python",
   "nbconvert_exporter": "python",
   "pygments_lexer": "ipython3",
   "version": "3.13.5"
  }
 },
 "nbformat": 4,
 "nbformat_minor": 5
}
